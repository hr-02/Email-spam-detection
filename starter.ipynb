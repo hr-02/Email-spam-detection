{
 "cells": [
  {
   "cell_type": "code",
   "execution_count": 1,
   "id": "048410e2-0f78-4314-a15a-39da96ab29f9",
   "metadata": {},
   "outputs": [],
   "source": [
    "from datasets import load_dataset\n",
    "\n",
    "spam_detection_dataset = load_dataset(\"Deysi/spam-detection-dataset\")"
   ]
  },
  {
   "cell_type": "code",
   "execution_count": 2,
   "id": "1d27f3fc-acc1-4373-b989-cfd5dfdcf1e7",
   "metadata": {},
   "outputs": [],
   "source": [
    "spam_detection_dataset.set_format(type='pandas')"
   ]
  },
  {
   "cell_type": "code",
   "execution_count": 3,
   "id": "bbb78ee2-7e85-4a3c-b5b4-d889750f8410",
   "metadata": {},
   "outputs": [],
   "source": [
    "train_df = spam_detection_dataset['train'][:]\n",
    "test_df = spam_detection_dataset['test'][:]"
   ]
  },
  {
   "cell_type": "code",
   "execution_count": 4,
   "id": "c420b43f-c47a-4691-9801-f053e439d8d3",
   "metadata": {},
   "outputs": [
    {
     "data": {
      "text/plain": [
       "label\n",
       "spam        0.504587\n",
       "not_spam    0.495413\n",
       "Name: proportion, dtype: float64"
      ]
     },
     "execution_count": 4,
     "metadata": {},
     "output_type": "execute_result"
    }
   ],
   "source": [
    "train_df.label.value_counts(normalize=True)"
   ]
  },
  {
   "cell_type": "code",
   "execution_count": 5,
   "id": "4ad76251-d171-4ff2-afea-365679e36d4f",
   "metadata": {},
   "outputs": [
    {
     "data": {
      "text/plain": [
       "label\n",
       "spam        0.504587\n",
       "not_spam    0.495413\n",
       "Name: proportion, dtype: float64"
      ]
     },
     "execution_count": 5,
     "metadata": {},
     "output_type": "execute_result"
    }
   ],
   "source": [
    "test_df.label.value_counts(normalize=True)"
   ]
  },
  {
   "cell_type": "code",
   "execution_count": 6,
   "id": "d0dfb886-2b63-4008-b228-6cf2dfa23a26",
   "metadata": {},
   "outputs": [],
   "source": [
    "train_df = train_df.sample(1500, random_state=10)\n",
    "test_df = test_df.sample(500, random_state=10)"
   ]
  },
  {
   "cell_type": "code",
   "execution_count": 7,
   "id": "f7d89f5f-d310-490a-845b-2fb503f98c86",
   "metadata": {},
   "outputs": [
    {
     "name": "stdout",
     "output_type": "stream",
     "text": [
      "Retrieving notices: ...working... done\n",
      "Channels:\n",
      " - defaults\n",
      "Platform: linux-64\n",
      "Collecting package metadata (repodata.json): done\n",
      "Solving environment: done\n",
      "\n",
      "# All requested packages already installed.\n",
      "\n",
      "\n",
      "Note: you may need to restart the kernel to use updated packages.\n"
     ]
    }
   ],
   "source": [
    "conda install joblib"
   ]
  },
  {
   "cell_type": "code",
   "execution_count": 8,
   "id": "aaacd4db-a274-4172-a604-7193f089e0d0",
   "metadata": {},
   "outputs": [],
   "source": [
    "from joblib import dump\n",
    "\n",
    "train_df.to_csv('dataset/train_df.csv', index=False)\n",
    "test_df.to_csv('dataset/test_df.csv', index=False)"
   ]
  },
  {
   "cell_type": "code",
   "execution_count": 9,
   "id": "e8dff80f-2a92-4b31-a21d-108ba1fb4a40",
   "metadata": {},
   "outputs": [
    {
     "name": "stdout",
     "output_type": "stream",
     "text": [
      "Requirement already satisfied: sentence-transformers in /opt/conda/lib/python3.12/site-packages (3.0.1)\n",
      "Requirement already satisfied: transformers<5.0.0,>=4.34.0 in /opt/conda/lib/python3.12/site-packages (from sentence-transformers) (4.42.3)\n",
      "Requirement already satisfied: tqdm in /opt/conda/lib/python3.12/site-packages (from sentence-transformers) (4.66.2)\n",
      "Requirement already satisfied: torch>=1.11.0 in /opt/conda/lib/python3.12/site-packages (from sentence-transformers) (2.3.1)\n",
      "Requirement already satisfied: numpy in /opt/conda/lib/python3.12/site-packages (from sentence-transformers) (1.26.4)\n",
      "Requirement already satisfied: scikit-learn in /opt/conda/lib/python3.12/site-packages (from sentence-transformers) (1.5.1)\n",
      "Requirement already satisfied: scipy in /opt/conda/lib/python3.12/site-packages (from sentence-transformers) (1.14.0)\n",
      "Requirement already satisfied: huggingface-hub>=0.15.1 in /opt/conda/lib/python3.12/site-packages (from sentence-transformers) (0.23.4)\n",
      "Requirement already satisfied: Pillow in /opt/conda/lib/python3.12/site-packages (from sentence-transformers) (10.4.0)\n",
      "Requirement already satisfied: filelock in /opt/conda/lib/python3.12/site-packages (from huggingface-hub>=0.15.1->sentence-transformers) (3.13.1)\n",
      "Requirement already satisfied: fsspec>=2023.5.0 in /opt/conda/lib/python3.12/site-packages (from huggingface-hub>=0.15.1->sentence-transformers) (2024.3.1)\n",
      "Requirement already satisfied: packaging>=20.9 in /opt/conda/lib/python3.12/site-packages (from huggingface-hub>=0.15.1->sentence-transformers) (23.2)\n",
      "Requirement already satisfied: pyyaml>=5.1 in /opt/conda/lib/python3.12/site-packages (from huggingface-hub>=0.15.1->sentence-transformers) (6.0.1)\n",
      "Requirement already satisfied: requests in /opt/conda/lib/python3.12/site-packages (from huggingface-hub>=0.15.1->sentence-transformers) (2.31.0)\n",
      "Requirement already satisfied: typing-extensions>=3.7.4.3 in /opt/conda/lib/python3.12/site-packages (from huggingface-hub>=0.15.1->sentence-transformers) (4.11.0)\n",
      "Requirement already satisfied: sympy in /opt/conda/lib/python3.12/site-packages (from torch>=1.11.0->sentence-transformers) (1.13.0)\n",
      "Requirement already satisfied: networkx in /opt/conda/lib/python3.12/site-packages (from torch>=1.11.0->sentence-transformers) (3.3)\n",
      "Requirement already satisfied: jinja2 in /opt/conda/lib/python3.12/site-packages (from torch>=1.11.0->sentence-transformers) (3.1.4)\n",
      "Requirement already satisfied: nvidia-cuda-nvrtc-cu12==12.1.105 in /opt/conda/lib/python3.12/site-packages (from torch>=1.11.0->sentence-transformers) (12.1.105)\n",
      "Requirement already satisfied: nvidia-cuda-runtime-cu12==12.1.105 in /opt/conda/lib/python3.12/site-packages (from torch>=1.11.0->sentence-transformers) (12.1.105)\n",
      "Requirement already satisfied: nvidia-cuda-cupti-cu12==12.1.105 in /opt/conda/lib/python3.12/site-packages (from torch>=1.11.0->sentence-transformers) (12.1.105)\n",
      "Requirement already satisfied: nvidia-cudnn-cu12==8.9.2.26 in /opt/conda/lib/python3.12/site-packages (from torch>=1.11.0->sentence-transformers) (8.9.2.26)\n",
      "Requirement already satisfied: nvidia-cublas-cu12==12.1.3.1 in /opt/conda/lib/python3.12/site-packages (from torch>=1.11.0->sentence-transformers) (12.1.3.1)\n",
      "Requirement already satisfied: nvidia-cufft-cu12==11.0.2.54 in /opt/conda/lib/python3.12/site-packages (from torch>=1.11.0->sentence-transformers) (11.0.2.54)\n",
      "Requirement already satisfied: nvidia-curand-cu12==10.3.2.106 in /opt/conda/lib/python3.12/site-packages (from torch>=1.11.0->sentence-transformers) (10.3.2.106)\n",
      "Requirement already satisfied: nvidia-cusolver-cu12==11.4.5.107 in /opt/conda/lib/python3.12/site-packages (from torch>=1.11.0->sentence-transformers) (11.4.5.107)\n",
      "Requirement already satisfied: nvidia-cusparse-cu12==12.1.0.106 in /opt/conda/lib/python3.12/site-packages (from torch>=1.11.0->sentence-transformers) (12.1.0.106)\n",
      "Requirement already satisfied: nvidia-nccl-cu12==2.20.5 in /opt/conda/lib/python3.12/site-packages (from torch>=1.11.0->sentence-transformers) (2.20.5)\n",
      "Requirement already satisfied: nvidia-nvtx-cu12==12.1.105 in /opt/conda/lib/python3.12/site-packages (from torch>=1.11.0->sentence-transformers) (12.1.105)\n",
      "Requirement already satisfied: nvidia-nvjitlink-cu12 in /opt/conda/lib/python3.12/site-packages (from nvidia-cusolver-cu12==11.4.5.107->torch>=1.11.0->sentence-transformers) (12.5.82)\n",
      "Requirement already satisfied: regex!=2019.12.17 in /opt/conda/lib/python3.12/site-packages (from transformers<5.0.0,>=4.34.0->sentence-transformers) (2024.5.15)\n",
      "Requirement already satisfied: safetensors>=0.4.1 in /opt/conda/lib/python3.12/site-packages (from transformers<5.0.0,>=4.34.0->sentence-transformers) (0.4.3)\n",
      "Requirement already satisfied: tokenizers<0.20,>=0.19 in /opt/conda/lib/python3.12/site-packages (from transformers<5.0.0,>=4.34.0->sentence-transformers) (0.19.1)\n",
      "Requirement already satisfied: joblib>=1.2.0 in /opt/conda/lib/python3.12/site-packages (from scikit-learn->sentence-transformers) (1.4.2)\n",
      "Requirement already satisfied: threadpoolctl>=3.1.0 in /opt/conda/lib/python3.12/site-packages (from scikit-learn->sentence-transformers) (3.5.0)\n",
      "Requirement already satisfied: MarkupSafe>=2.0 in /opt/conda/lib/python3.12/site-packages (from jinja2->torch>=1.11.0->sentence-transformers) (2.1.3)\n",
      "Requirement already satisfied: charset-normalizer<4,>=2 in /opt/conda/lib/python3.12/site-packages (from requests->huggingface-hub>=0.15.1->sentence-transformers) (2.0.4)\n",
      "Requirement already satisfied: idna<4,>=2.5 in /opt/conda/lib/python3.12/site-packages (from requests->huggingface-hub>=0.15.1->sentence-transformers) (3.7)\n",
      "Requirement already satisfied: urllib3<3,>=1.21.1 in /opt/conda/lib/python3.12/site-packages (from requests->huggingface-hub>=0.15.1->sentence-transformers) (1.26.18)\n",
      "Requirement already satisfied: certifi>=2017.4.17 in /opt/conda/lib/python3.12/site-packages (from requests->huggingface-hub>=0.15.1->sentence-transformers) (2024.7.4)\n",
      "Requirement already satisfied: mpmath<1.4,>=1.1.0 in /opt/conda/lib/python3.12/site-packages (from sympy->torch>=1.11.0->sentence-transformers) (1.3.0)\n",
      "Note: you may need to restart the kernel to use updated packages.\n"
     ]
    }
   ],
   "source": [
    "pip install sentence-transformers"
   ]
  },
  {
   "cell_type": "code",
   "execution_count": 10,
   "id": "2a169d73-9b09-416e-9d35-b24cbbdb7007",
   "metadata": {},
   "outputs": [],
   "source": [
    "from sentence_transformers import SentenceTransformer\n",
    "\n",
    "# Load the model\n",
    "sentence_model = SentenceTransformer('all-mpnet-base-v2', device='cpu')"
   ]
  },
  {
   "cell_type": "code",
   "execution_count": 11,
   "id": "ae854e43-ca0f-41fd-aac3-467c4e803c8f",
   "metadata": {},
   "outputs": [
    {
     "data": {
      "application/vnd.jupyter.widget-view+json": {
       "model_id": "4817de4aef604925a5eff29233750df7",
       "version_major": 2,
       "version_minor": 0
      },
      "text/plain": [
       "Batches:   0%|          | 0/47 [00:00<?, ?it/s]"
      ]
     },
     "metadata": {},
     "output_type": "display_data"
    }
   ],
   "source": [
    "train_embeddings = sentence_model.encode(train_df['text'].values, show_progress_bar=True, batch_size=32)"
   ]
  },
  {
   "cell_type": "code",
   "execution_count": 12,
   "id": "9f52ae65-d994-451a-a80d-4642bc896489",
   "metadata": {},
   "outputs": [
    {
     "data": {
      "application/vnd.jupyter.widget-view+json": {
       "model_id": "e2af6e337c55491a85fc3a13ecde32cc",
       "version_major": 2,
       "version_minor": 0
      },
      "text/plain": [
       "Batches:   0%|          | 0/16 [00:00<?, ?it/s]"
      ]
     },
     "metadata": {},
     "output_type": "display_data"
    }
   ],
   "source": [
    "test_embeddings = sentence_model.encode(test_df['text'].values, show_progress_bar=True, batch_size=32)"
   ]
  },
  {
   "cell_type": "code",
   "execution_count": 13,
   "id": "a4d577f9-fced-407f-8c2c-cbfa0a73a3af",
   "metadata": {},
   "outputs": [
    {
     "data": {
      "text/plain": [
       "['dataset/embeddings/test_embeddings.joblib']"
      ]
     },
     "execution_count": 13,
     "metadata": {},
     "output_type": "execute_result"
    }
   ],
   "source": [
    "dump(train_embeddings, 'dataset/embeddings/train_embeddings.joblib')\n",
    "dump(test_embeddings, 'dataset/embeddings/test_embeddings.joblib')"
   ]
  },
  {
   "cell_type": "code",
   "execution_count": 14,
   "id": "537c737a-59ba-4d67-8e87-918e36f66395",
   "metadata": {},
   "outputs": [],
   "source": [
    "# import randomforestclassifier from sklearn\n",
    "from sklearn.ensemble import RandomForestClassifier"
   ]
  },
  {
   "cell_type": "code",
   "execution_count": 15,
   "id": "a6e6a976-6bec-4618-8cd1-2b4f4fa1c1a5",
   "metadata": {},
   "outputs": [],
   "source": [
    "clf = RandomForestClassifier()"
   ]
  },
  {
   "cell_type": "code",
   "execution_count": 16,
   "id": "779a9b98-7fa8-4eca-b6f5-d2cec75a9b6d",
   "metadata": {},
   "outputs": [
    {
     "data": {
      "text/html": [
       "<style>#sk-container-id-1 {\n",
       "  /* Definition of color scheme common for light and dark mode */\n",
       "  --sklearn-color-text: black;\n",
       "  --sklearn-color-line: gray;\n",
       "  /* Definition of color scheme for unfitted estimators */\n",
       "  --sklearn-color-unfitted-level-0: #fff5e6;\n",
       "  --sklearn-color-unfitted-level-1: #f6e4d2;\n",
       "  --sklearn-color-unfitted-level-2: #ffe0b3;\n",
       "  --sklearn-color-unfitted-level-3: chocolate;\n",
       "  /* Definition of color scheme for fitted estimators */\n",
       "  --sklearn-color-fitted-level-0: #f0f8ff;\n",
       "  --sklearn-color-fitted-level-1: #d4ebff;\n",
       "  --sklearn-color-fitted-level-2: #b3dbfd;\n",
       "  --sklearn-color-fitted-level-3: cornflowerblue;\n",
       "\n",
       "  /* Specific color for light theme */\n",
       "  --sklearn-color-text-on-default-background: var(--sg-text-color, var(--theme-code-foreground, var(--jp-content-font-color1, black)));\n",
       "  --sklearn-color-background: var(--sg-background-color, var(--theme-background, var(--jp-layout-color0, white)));\n",
       "  --sklearn-color-border-box: var(--sg-text-color, var(--theme-code-foreground, var(--jp-content-font-color1, black)));\n",
       "  --sklearn-color-icon: #696969;\n",
       "\n",
       "  @media (prefers-color-scheme: dark) {\n",
       "    /* Redefinition of color scheme for dark theme */\n",
       "    --sklearn-color-text-on-default-background: var(--sg-text-color, var(--theme-code-foreground, var(--jp-content-font-color1, white)));\n",
       "    --sklearn-color-background: var(--sg-background-color, var(--theme-background, var(--jp-layout-color0, #111)));\n",
       "    --sklearn-color-border-box: var(--sg-text-color, var(--theme-code-foreground, var(--jp-content-font-color1, white)));\n",
       "    --sklearn-color-icon: #878787;\n",
       "  }\n",
       "}\n",
       "\n",
       "#sk-container-id-1 {\n",
       "  color: var(--sklearn-color-text);\n",
       "}\n",
       "\n",
       "#sk-container-id-1 pre {\n",
       "  padding: 0;\n",
       "}\n",
       "\n",
       "#sk-container-id-1 input.sk-hidden--visually {\n",
       "  border: 0;\n",
       "  clip: rect(1px 1px 1px 1px);\n",
       "  clip: rect(1px, 1px, 1px, 1px);\n",
       "  height: 1px;\n",
       "  margin: -1px;\n",
       "  overflow: hidden;\n",
       "  padding: 0;\n",
       "  position: absolute;\n",
       "  width: 1px;\n",
       "}\n",
       "\n",
       "#sk-container-id-1 div.sk-dashed-wrapped {\n",
       "  border: 1px dashed var(--sklearn-color-line);\n",
       "  margin: 0 0.4em 0.5em 0.4em;\n",
       "  box-sizing: border-box;\n",
       "  padding-bottom: 0.4em;\n",
       "  background-color: var(--sklearn-color-background);\n",
       "}\n",
       "\n",
       "#sk-container-id-1 div.sk-container {\n",
       "  /* jupyter's `normalize.less` sets `[hidden] { display: none; }`\n",
       "     but bootstrap.min.css set `[hidden] { display: none !important; }`\n",
       "     so we also need the `!important` here to be able to override the\n",
       "     default hidden behavior on the sphinx rendered scikit-learn.org.\n",
       "     See: https://github.com/scikit-learn/scikit-learn/issues/21755 */\n",
       "  display: inline-block !important;\n",
       "  position: relative;\n",
       "}\n",
       "\n",
       "#sk-container-id-1 div.sk-text-repr-fallback {\n",
       "  display: none;\n",
       "}\n",
       "\n",
       "div.sk-parallel-item,\n",
       "div.sk-serial,\n",
       "div.sk-item {\n",
       "  /* draw centered vertical line to link estimators */\n",
       "  background-image: linear-gradient(var(--sklearn-color-text-on-default-background), var(--sklearn-color-text-on-default-background));\n",
       "  background-size: 2px 100%;\n",
       "  background-repeat: no-repeat;\n",
       "  background-position: center center;\n",
       "}\n",
       "\n",
       "/* Parallel-specific style estimator block */\n",
       "\n",
       "#sk-container-id-1 div.sk-parallel-item::after {\n",
       "  content: \"\";\n",
       "  width: 100%;\n",
       "  border-bottom: 2px solid var(--sklearn-color-text-on-default-background);\n",
       "  flex-grow: 1;\n",
       "}\n",
       "\n",
       "#sk-container-id-1 div.sk-parallel {\n",
       "  display: flex;\n",
       "  align-items: stretch;\n",
       "  justify-content: center;\n",
       "  background-color: var(--sklearn-color-background);\n",
       "  position: relative;\n",
       "}\n",
       "\n",
       "#sk-container-id-1 div.sk-parallel-item {\n",
       "  display: flex;\n",
       "  flex-direction: column;\n",
       "}\n",
       "\n",
       "#sk-container-id-1 div.sk-parallel-item:first-child::after {\n",
       "  align-self: flex-end;\n",
       "  width: 50%;\n",
       "}\n",
       "\n",
       "#sk-container-id-1 div.sk-parallel-item:last-child::after {\n",
       "  align-self: flex-start;\n",
       "  width: 50%;\n",
       "}\n",
       "\n",
       "#sk-container-id-1 div.sk-parallel-item:only-child::after {\n",
       "  width: 0;\n",
       "}\n",
       "\n",
       "/* Serial-specific style estimator block */\n",
       "\n",
       "#sk-container-id-1 div.sk-serial {\n",
       "  display: flex;\n",
       "  flex-direction: column;\n",
       "  align-items: center;\n",
       "  background-color: var(--sklearn-color-background);\n",
       "  padding-right: 1em;\n",
       "  padding-left: 1em;\n",
       "}\n",
       "\n",
       "\n",
       "/* Toggleable style: style used for estimator/Pipeline/ColumnTransformer box that is\n",
       "clickable and can be expanded/collapsed.\n",
       "- Pipeline and ColumnTransformer use this feature and define the default style\n",
       "- Estimators will overwrite some part of the style using the `sk-estimator` class\n",
       "*/\n",
       "\n",
       "/* Pipeline and ColumnTransformer style (default) */\n",
       "\n",
       "#sk-container-id-1 div.sk-toggleable {\n",
       "  /* Default theme specific background. It is overwritten whether we have a\n",
       "  specific estimator or a Pipeline/ColumnTransformer */\n",
       "  background-color: var(--sklearn-color-background);\n",
       "}\n",
       "\n",
       "/* Toggleable label */\n",
       "#sk-container-id-1 label.sk-toggleable__label {\n",
       "  cursor: pointer;\n",
       "  display: block;\n",
       "  width: 100%;\n",
       "  margin-bottom: 0;\n",
       "  padding: 0.5em;\n",
       "  box-sizing: border-box;\n",
       "  text-align: center;\n",
       "}\n",
       "\n",
       "#sk-container-id-1 label.sk-toggleable__label-arrow:before {\n",
       "  /* Arrow on the left of the label */\n",
       "  content: \"▸\";\n",
       "  float: left;\n",
       "  margin-right: 0.25em;\n",
       "  color: var(--sklearn-color-icon);\n",
       "}\n",
       "\n",
       "#sk-container-id-1 label.sk-toggleable__label-arrow:hover:before {\n",
       "  color: var(--sklearn-color-text);\n",
       "}\n",
       "\n",
       "/* Toggleable content - dropdown */\n",
       "\n",
       "#sk-container-id-1 div.sk-toggleable__content {\n",
       "  max-height: 0;\n",
       "  max-width: 0;\n",
       "  overflow: hidden;\n",
       "  text-align: left;\n",
       "  /* unfitted */\n",
       "  background-color: var(--sklearn-color-unfitted-level-0);\n",
       "}\n",
       "\n",
       "#sk-container-id-1 div.sk-toggleable__content.fitted {\n",
       "  /* fitted */\n",
       "  background-color: var(--sklearn-color-fitted-level-0);\n",
       "}\n",
       "\n",
       "#sk-container-id-1 div.sk-toggleable__content pre {\n",
       "  margin: 0.2em;\n",
       "  border-radius: 0.25em;\n",
       "  color: var(--sklearn-color-text);\n",
       "  /* unfitted */\n",
       "  background-color: var(--sklearn-color-unfitted-level-0);\n",
       "}\n",
       "\n",
       "#sk-container-id-1 div.sk-toggleable__content.fitted pre {\n",
       "  /* unfitted */\n",
       "  background-color: var(--sklearn-color-fitted-level-0);\n",
       "}\n",
       "\n",
       "#sk-container-id-1 input.sk-toggleable__control:checked~div.sk-toggleable__content {\n",
       "  /* Expand drop-down */\n",
       "  max-height: 200px;\n",
       "  max-width: 100%;\n",
       "  overflow: auto;\n",
       "}\n",
       "\n",
       "#sk-container-id-1 input.sk-toggleable__control:checked~label.sk-toggleable__label-arrow:before {\n",
       "  content: \"▾\";\n",
       "}\n",
       "\n",
       "/* Pipeline/ColumnTransformer-specific style */\n",
       "\n",
       "#sk-container-id-1 div.sk-label input.sk-toggleable__control:checked~label.sk-toggleable__label {\n",
       "  color: var(--sklearn-color-text);\n",
       "  background-color: var(--sklearn-color-unfitted-level-2);\n",
       "}\n",
       "\n",
       "#sk-container-id-1 div.sk-label.fitted input.sk-toggleable__control:checked~label.sk-toggleable__label {\n",
       "  background-color: var(--sklearn-color-fitted-level-2);\n",
       "}\n",
       "\n",
       "/* Estimator-specific style */\n",
       "\n",
       "/* Colorize estimator box */\n",
       "#sk-container-id-1 div.sk-estimator input.sk-toggleable__control:checked~label.sk-toggleable__label {\n",
       "  /* unfitted */\n",
       "  background-color: var(--sklearn-color-unfitted-level-2);\n",
       "}\n",
       "\n",
       "#sk-container-id-1 div.sk-estimator.fitted input.sk-toggleable__control:checked~label.sk-toggleable__label {\n",
       "  /* fitted */\n",
       "  background-color: var(--sklearn-color-fitted-level-2);\n",
       "}\n",
       "\n",
       "#sk-container-id-1 div.sk-label label.sk-toggleable__label,\n",
       "#sk-container-id-1 div.sk-label label {\n",
       "  /* The background is the default theme color */\n",
       "  color: var(--sklearn-color-text-on-default-background);\n",
       "}\n",
       "\n",
       "/* On hover, darken the color of the background */\n",
       "#sk-container-id-1 div.sk-label:hover label.sk-toggleable__label {\n",
       "  color: var(--sklearn-color-text);\n",
       "  background-color: var(--sklearn-color-unfitted-level-2);\n",
       "}\n",
       "\n",
       "/* Label box, darken color on hover, fitted */\n",
       "#sk-container-id-1 div.sk-label.fitted:hover label.sk-toggleable__label.fitted {\n",
       "  color: var(--sklearn-color-text);\n",
       "  background-color: var(--sklearn-color-fitted-level-2);\n",
       "}\n",
       "\n",
       "/* Estimator label */\n",
       "\n",
       "#sk-container-id-1 div.sk-label label {\n",
       "  font-family: monospace;\n",
       "  font-weight: bold;\n",
       "  display: inline-block;\n",
       "  line-height: 1.2em;\n",
       "}\n",
       "\n",
       "#sk-container-id-1 div.sk-label-container {\n",
       "  text-align: center;\n",
       "}\n",
       "\n",
       "/* Estimator-specific */\n",
       "#sk-container-id-1 div.sk-estimator {\n",
       "  font-family: monospace;\n",
       "  border: 1px dotted var(--sklearn-color-border-box);\n",
       "  border-radius: 0.25em;\n",
       "  box-sizing: border-box;\n",
       "  margin-bottom: 0.5em;\n",
       "  /* unfitted */\n",
       "  background-color: var(--sklearn-color-unfitted-level-0);\n",
       "}\n",
       "\n",
       "#sk-container-id-1 div.sk-estimator.fitted {\n",
       "  /* fitted */\n",
       "  background-color: var(--sklearn-color-fitted-level-0);\n",
       "}\n",
       "\n",
       "/* on hover */\n",
       "#sk-container-id-1 div.sk-estimator:hover {\n",
       "  /* unfitted */\n",
       "  background-color: var(--sklearn-color-unfitted-level-2);\n",
       "}\n",
       "\n",
       "#sk-container-id-1 div.sk-estimator.fitted:hover {\n",
       "  /* fitted */\n",
       "  background-color: var(--sklearn-color-fitted-level-2);\n",
       "}\n",
       "\n",
       "/* Specification for estimator info (e.g. \"i\" and \"?\") */\n",
       "\n",
       "/* Common style for \"i\" and \"?\" */\n",
       "\n",
       ".sk-estimator-doc-link,\n",
       "a:link.sk-estimator-doc-link,\n",
       "a:visited.sk-estimator-doc-link {\n",
       "  float: right;\n",
       "  font-size: smaller;\n",
       "  line-height: 1em;\n",
       "  font-family: monospace;\n",
       "  background-color: var(--sklearn-color-background);\n",
       "  border-radius: 1em;\n",
       "  height: 1em;\n",
       "  width: 1em;\n",
       "  text-decoration: none !important;\n",
       "  margin-left: 1ex;\n",
       "  /* unfitted */\n",
       "  border: var(--sklearn-color-unfitted-level-1) 1pt solid;\n",
       "  color: var(--sklearn-color-unfitted-level-1);\n",
       "}\n",
       "\n",
       ".sk-estimator-doc-link.fitted,\n",
       "a:link.sk-estimator-doc-link.fitted,\n",
       "a:visited.sk-estimator-doc-link.fitted {\n",
       "  /* fitted */\n",
       "  border: var(--sklearn-color-fitted-level-1) 1pt solid;\n",
       "  color: var(--sklearn-color-fitted-level-1);\n",
       "}\n",
       "\n",
       "/* On hover */\n",
       "div.sk-estimator:hover .sk-estimator-doc-link:hover,\n",
       ".sk-estimator-doc-link:hover,\n",
       "div.sk-label-container:hover .sk-estimator-doc-link:hover,\n",
       ".sk-estimator-doc-link:hover {\n",
       "  /* unfitted */\n",
       "  background-color: var(--sklearn-color-unfitted-level-3);\n",
       "  color: var(--sklearn-color-background);\n",
       "  text-decoration: none;\n",
       "}\n",
       "\n",
       "div.sk-estimator.fitted:hover .sk-estimator-doc-link.fitted:hover,\n",
       ".sk-estimator-doc-link.fitted:hover,\n",
       "div.sk-label-container:hover .sk-estimator-doc-link.fitted:hover,\n",
       ".sk-estimator-doc-link.fitted:hover {\n",
       "  /* fitted */\n",
       "  background-color: var(--sklearn-color-fitted-level-3);\n",
       "  color: var(--sklearn-color-background);\n",
       "  text-decoration: none;\n",
       "}\n",
       "\n",
       "/* Span, style for the box shown on hovering the info icon */\n",
       ".sk-estimator-doc-link span {\n",
       "  display: none;\n",
       "  z-index: 9999;\n",
       "  position: relative;\n",
       "  font-weight: normal;\n",
       "  right: .2ex;\n",
       "  padding: .5ex;\n",
       "  margin: .5ex;\n",
       "  width: min-content;\n",
       "  min-width: 20ex;\n",
       "  max-width: 50ex;\n",
       "  color: var(--sklearn-color-text);\n",
       "  box-shadow: 2pt 2pt 4pt #999;\n",
       "  /* unfitted */\n",
       "  background: var(--sklearn-color-unfitted-level-0);\n",
       "  border: .5pt solid var(--sklearn-color-unfitted-level-3);\n",
       "}\n",
       "\n",
       ".sk-estimator-doc-link.fitted span {\n",
       "  /* fitted */\n",
       "  background: var(--sklearn-color-fitted-level-0);\n",
       "  border: var(--sklearn-color-fitted-level-3);\n",
       "}\n",
       "\n",
       ".sk-estimator-doc-link:hover span {\n",
       "  display: block;\n",
       "}\n",
       "\n",
       "/* \"?\"-specific style due to the `<a>` HTML tag */\n",
       "\n",
       "#sk-container-id-1 a.estimator_doc_link {\n",
       "  float: right;\n",
       "  font-size: 1rem;\n",
       "  line-height: 1em;\n",
       "  font-family: monospace;\n",
       "  background-color: var(--sklearn-color-background);\n",
       "  border-radius: 1rem;\n",
       "  height: 1rem;\n",
       "  width: 1rem;\n",
       "  text-decoration: none;\n",
       "  /* unfitted */\n",
       "  color: var(--sklearn-color-unfitted-level-1);\n",
       "  border: var(--sklearn-color-unfitted-level-1) 1pt solid;\n",
       "}\n",
       "\n",
       "#sk-container-id-1 a.estimator_doc_link.fitted {\n",
       "  /* fitted */\n",
       "  border: var(--sklearn-color-fitted-level-1) 1pt solid;\n",
       "  color: var(--sklearn-color-fitted-level-1);\n",
       "}\n",
       "\n",
       "/* On hover */\n",
       "#sk-container-id-1 a.estimator_doc_link:hover {\n",
       "  /* unfitted */\n",
       "  background-color: var(--sklearn-color-unfitted-level-3);\n",
       "  color: var(--sklearn-color-background);\n",
       "  text-decoration: none;\n",
       "}\n",
       "\n",
       "#sk-container-id-1 a.estimator_doc_link.fitted:hover {\n",
       "  /* fitted */\n",
       "  background-color: var(--sklearn-color-fitted-level-3);\n",
       "}\n",
       "</style><div id=\"sk-container-id-1\" class=\"sk-top-container\"><div class=\"sk-text-repr-fallback\"><pre>RandomForestClassifier()</pre><b>In a Jupyter environment, please rerun this cell to show the HTML representation or trust the notebook. <br />On GitHub, the HTML representation is unable to render, please try loading this page with nbviewer.org.</b></div><div class=\"sk-container\" hidden><div class=\"sk-item\"><div class=\"sk-estimator fitted sk-toggleable\"><input class=\"sk-toggleable__control sk-hidden--visually\" id=\"sk-estimator-id-1\" type=\"checkbox\" checked><label for=\"sk-estimator-id-1\" class=\"sk-toggleable__label fitted sk-toggleable__label-arrow fitted\">&nbsp;&nbsp;RandomForestClassifier<a class=\"sk-estimator-doc-link fitted\" rel=\"noreferrer\" target=\"_blank\" href=\"https://scikit-learn.org/1.5/modules/generated/sklearn.ensemble.RandomForestClassifier.html\">?<span>Documentation for RandomForestClassifier</span></a><span class=\"sk-estimator-doc-link fitted\">i<span>Fitted</span></span></label><div class=\"sk-toggleable__content fitted\"><pre>RandomForestClassifier()</pre></div> </div></div></div></div>"
      ],
      "text/plain": [
       "RandomForestClassifier()"
      ]
     },
     "execution_count": 16,
     "metadata": {},
     "output_type": "execute_result"
    }
   ],
   "source": [
    "clf.fit(train_embeddings, train_df['label'])"
   ]
  },
  {
   "cell_type": "code",
   "execution_count": 17,
   "id": "2076274c-05bf-4154-96d5-a34461535bef",
   "metadata": {},
   "outputs": [],
   "source": [
    "predict = clf.predict(test_embeddings)"
   ]
  },
  {
   "cell_type": "code",
   "execution_count": 18,
   "id": "f7fb1188-fd53-43e5-81ae-bfce8ed5b357",
   "metadata": {},
   "outputs": [
    {
     "data": {
      "text/plain": [
       "array([[246,   2],\n",
       "       [  0, 252]])"
      ]
     },
     "execution_count": 18,
     "metadata": {},
     "output_type": "execute_result"
    }
   ],
   "source": [
    "from sklearn.metrics import confusion_matrix\n",
    "\n",
    "confusion_matrix(test_df['label'], predict)"
   ]
  },
  {
   "cell_type": "code",
   "execution_count": 19,
   "id": "09975229-f023-49f5-b5af-60b11821b88c",
   "metadata": {},
   "outputs": [
    {
     "name": "stdout",
     "output_type": "stream",
     "text": [
      "              precision    recall  f1-score   support\n",
      "\n",
      "    not_spam       1.00      0.99      1.00       248\n",
      "        spam       0.99      1.00      1.00       252\n",
      "\n",
      "    accuracy                           1.00       500\n",
      "   macro avg       1.00      1.00      1.00       500\n",
      "weighted avg       1.00      1.00      1.00       500\n",
      "\n"
     ]
    }
   ],
   "source": [
    "from sklearn.metrics import classification_report\n",
    "\n",
    "print(classification_report(test_df['label'], predict))"
   ]
  },
  {
   "cell_type": "code",
   "execution_count": 20,
   "id": "1ace4a22-1584-4649-8370-46259f985ebd",
   "metadata": {},
   "outputs": [
    {
     "name": "stderr",
     "output_type": "stream",
     "text": [
      "huggingface/tokenizers: The current process just got forked, after parallelism has already been used. Disabling parallelism to avoid deadlocks...\n",
      "To disable this warning, you can either:\n",
      "\t- Avoid using `tokenizers` before the fork if possible\n",
      "\t- Explicitly set the environment variable TOKENIZERS_PARALLELISM=(true | false)\n"
     ]
    },
    {
     "name": "stdout",
     "output_type": "stream",
     "text": [
      "Requirement already satisfied: mlflow in /opt/conda/lib/python3.12/site-packages (2.14.2)\n",
      "Requirement already satisfied: Flask<4 in /opt/conda/lib/python3.12/site-packages (from mlflow) (3.0.3)\n",
      "Requirement already satisfied: alembic!=1.10.0,<2 in /opt/conda/lib/python3.12/site-packages (from mlflow) (1.13.2)\n",
      "Requirement already satisfied: cachetools<6,>=5.0.0 in /opt/conda/lib/python3.12/site-packages (from mlflow) (5.3.3)\n",
      "Requirement already satisfied: click<9,>=7.0 in /opt/conda/lib/python3.12/site-packages (from mlflow) (8.1.7)\n",
      "Requirement already satisfied: cloudpickle<4 in /opt/conda/lib/python3.12/site-packages (from mlflow) (3.0.0)\n",
      "Requirement already satisfied: docker<8,>=4.0.0 in /opt/conda/lib/python3.12/site-packages (from mlflow) (7.1.0)\n",
      "Requirement already satisfied: entrypoints<1 in /opt/conda/lib/python3.12/site-packages (from mlflow) (0.4)\n",
      "Requirement already satisfied: gitpython<4,>=3.1.9 in /opt/conda/lib/python3.12/site-packages (from mlflow) (3.1.43)\n",
      "Requirement already satisfied: graphene<4 in /opt/conda/lib/python3.12/site-packages (from mlflow) (3.3)\n",
      "Requirement already satisfied: importlib-metadata!=4.7.0,<8,>=3.7.0 in /opt/conda/lib/python3.12/site-packages (from mlflow) (7.1.0)\n",
      "Requirement already satisfied: markdown<4,>=3.3 in /opt/conda/lib/python3.12/site-packages (from mlflow) (3.6)\n",
      "Requirement already satisfied: matplotlib<4 in /opt/conda/lib/python3.12/site-packages (from mlflow) (3.9.1)\n",
      "Requirement already satisfied: numpy<2 in /opt/conda/lib/python3.12/site-packages (from mlflow) (1.26.4)\n",
      "Requirement already satisfied: opentelemetry-api<3,>=1.9.0 in /opt/conda/lib/python3.12/site-packages (from mlflow) (1.25.0)\n",
      "Requirement already satisfied: opentelemetry-sdk<3,>=1.9.0 in /opt/conda/lib/python3.12/site-packages (from mlflow) (1.25.0)\n",
      "Requirement already satisfied: packaging<25 in /opt/conda/lib/python3.12/site-packages (from mlflow) (23.2)\n",
      "Requirement already satisfied: pandas<3 in /opt/conda/lib/python3.12/site-packages (from mlflow) (2.2.2)\n",
      "Requirement already satisfied: protobuf<5,>=3.12.0 in /opt/conda/lib/python3.12/site-packages (from mlflow) (4.25.3)\n",
      "Requirement already satisfied: pyarrow<16,>=4.0.0 in /opt/conda/lib/python3.12/site-packages (from mlflow) (14.0.2)\n",
      "Requirement already satisfied: pytz<2025 in /opt/conda/lib/python3.12/site-packages (from mlflow) (2024.1)\n",
      "Requirement already satisfied: pyyaml<7,>=5.1 in /opt/conda/lib/python3.12/site-packages (from mlflow) (6.0.1)\n",
      "Requirement already satisfied: querystring-parser<2 in /opt/conda/lib/python3.12/site-packages (from mlflow) (1.2.4)\n",
      "Requirement already satisfied: requests<3,>=2.17.3 in /opt/conda/lib/python3.12/site-packages (from mlflow) (2.31.0)\n",
      "Requirement already satisfied: scikit-learn<2 in /opt/conda/lib/python3.12/site-packages (from mlflow) (1.5.1)\n",
      "Requirement already satisfied: scipy<2 in /opt/conda/lib/python3.12/site-packages (from mlflow) (1.14.0)\n",
      "Requirement already satisfied: sqlalchemy<3,>=1.4.0 in /opt/conda/lib/python3.12/site-packages (from mlflow) (2.0.31)\n",
      "Requirement already satisfied: sqlparse<1,>=0.4.0 in /opt/conda/lib/python3.12/site-packages (from mlflow) (0.5.0)\n",
      "Requirement already satisfied: Jinja2<4,>=2.11 in /opt/conda/lib/python3.12/site-packages (from mlflow) (3.1.4)\n",
      "Requirement already satisfied: gunicorn<23 in /opt/conda/lib/python3.12/site-packages (from mlflow) (22.0.0)\n",
      "Requirement already satisfied: Mako in /opt/conda/lib/python3.12/site-packages (from alembic!=1.10.0,<2->mlflow) (1.3.5)\n",
      "Requirement already satisfied: typing-extensions>=4 in /opt/conda/lib/python3.12/site-packages (from alembic!=1.10.0,<2->mlflow) (4.11.0)\n",
      "Requirement already satisfied: urllib3>=1.26.0 in /opt/conda/lib/python3.12/site-packages (from docker<8,>=4.0.0->mlflow) (1.26.18)\n",
      "Requirement already satisfied: Werkzeug>=3.0.0 in /opt/conda/lib/python3.12/site-packages (from Flask<4->mlflow) (3.0.3)\n",
      "Requirement already satisfied: itsdangerous>=2.1.2 in /opt/conda/lib/python3.12/site-packages (from Flask<4->mlflow) (2.2.0)\n",
      "Requirement already satisfied: blinker>=1.6.2 in /opt/conda/lib/python3.12/site-packages (from Flask<4->mlflow) (1.8.2)\n",
      "Requirement already satisfied: gitdb<5,>=4.0.1 in /opt/conda/lib/python3.12/site-packages (from gitpython<4,>=3.1.9->mlflow) (4.0.11)\n",
      "Requirement already satisfied: graphql-core<3.3,>=3.1 in /opt/conda/lib/python3.12/site-packages (from graphene<4->mlflow) (3.2.3)\n",
      "Requirement already satisfied: graphql-relay<3.3,>=3.1 in /opt/conda/lib/python3.12/site-packages (from graphene<4->mlflow) (3.2.0)\n",
      "Requirement already satisfied: aniso8601<10,>=8 in /opt/conda/lib/python3.12/site-packages (from graphene<4->mlflow) (9.0.1)\n",
      "Requirement already satisfied: zipp>=0.5 in /opt/conda/lib/python3.12/site-packages (from importlib-metadata!=4.7.0,<8,>=3.7.0->mlflow) (3.19.2)\n",
      "Requirement already satisfied: MarkupSafe>=2.0 in /opt/conda/lib/python3.12/site-packages (from Jinja2<4,>=2.11->mlflow) (2.1.3)\n",
      "Requirement already satisfied: contourpy>=1.0.1 in /opt/conda/lib/python3.12/site-packages (from matplotlib<4->mlflow) (1.2.1)\n",
      "Requirement already satisfied: cycler>=0.10 in /opt/conda/lib/python3.12/site-packages (from matplotlib<4->mlflow) (0.12.1)\n",
      "Requirement already satisfied: fonttools>=4.22.0 in /opt/conda/lib/python3.12/site-packages (from matplotlib<4->mlflow) (4.53.1)\n",
      "Requirement already satisfied: kiwisolver>=1.3.1 in /opt/conda/lib/python3.12/site-packages (from matplotlib<4->mlflow) (1.4.5)\n",
      "Requirement already satisfied: pillow>=8 in /opt/conda/lib/python3.12/site-packages (from matplotlib<4->mlflow) (10.4.0)\n",
      "Requirement already satisfied: pyparsing>=2.3.1 in /opt/conda/lib/python3.12/site-packages (from matplotlib<4->mlflow) (3.1.2)\n",
      "Requirement already satisfied: python-dateutil>=2.7 in /opt/conda/lib/python3.12/site-packages (from matplotlib<4->mlflow) (2.9.0.post0)\n",
      "Requirement already satisfied: deprecated>=1.2.6 in /opt/conda/lib/python3.12/site-packages (from opentelemetry-api<3,>=1.9.0->mlflow) (1.2.14)\n",
      "Requirement already satisfied: opentelemetry-semantic-conventions==0.46b0 in /opt/conda/lib/python3.12/site-packages (from opentelemetry-sdk<3,>=1.9.0->mlflow) (0.46b0)\n",
      "Requirement already satisfied: tzdata>=2022.7 in /opt/conda/lib/python3.12/site-packages (from pandas<3->mlflow) (2023.3)\n",
      "Requirement already satisfied: six in /opt/conda/lib/python3.12/site-packages (from querystring-parser<2->mlflow) (1.16.0)\n",
      "Requirement already satisfied: charset-normalizer<4,>=2 in /opt/conda/lib/python3.12/site-packages (from requests<3,>=2.17.3->mlflow) (2.0.4)\n",
      "Requirement already satisfied: idna<4,>=2.5 in /opt/conda/lib/python3.12/site-packages (from requests<3,>=2.17.3->mlflow) (3.7)\n",
      "Requirement already satisfied: certifi>=2017.4.17 in /opt/conda/lib/python3.12/site-packages (from requests<3,>=2.17.3->mlflow) (2024.7.4)\n",
      "Requirement already satisfied: joblib>=1.2.0 in /opt/conda/lib/python3.12/site-packages (from scikit-learn<2->mlflow) (1.4.2)\n",
      "Requirement already satisfied: threadpoolctl>=3.1.0 in /opt/conda/lib/python3.12/site-packages (from scikit-learn<2->mlflow) (3.5.0)\n",
      "Requirement already satisfied: greenlet!=0.4.17 in /opt/conda/lib/python3.12/site-packages (from sqlalchemy<3,>=1.4.0->mlflow) (3.0.3)\n",
      "Requirement already satisfied: wrapt<2,>=1.10 in /opt/conda/lib/python3.12/site-packages (from deprecated>=1.2.6->opentelemetry-api<3,>=1.9.0->mlflow) (1.16.0)\n",
      "Requirement already satisfied: smmap<6,>=3.0.1 in /opt/conda/lib/python3.12/site-packages (from gitdb<5,>=4.0.1->gitpython<4,>=3.1.9->mlflow) (5.0.1)\n",
      "Note: you may need to restart the kernel to use updated packages.\n"
     ]
    }
   ],
   "source": [
    "pip install mlflow"
   ]
  },
  {
   "cell_type": "code",
   "execution_count": 21,
   "id": "64c4ce98-db48-43be-8987-b59ce58c37e3",
   "metadata": {},
   "outputs": [
    {
     "name": "stderr",
     "output_type": "stream",
     "text": [
      "huggingface/tokenizers: The current process just got forked, after parallelism has already been used. Disabling parallelism to avoid deadlocks...\n",
      "To disable this warning, you can either:\n",
      "\t- Avoid using `tokenizers` before the fork if possible\n",
      "\t- Explicitly set the environment variable TOKENIZERS_PARALLELISM=(true | false)\n"
     ]
    },
    {
     "name": "stdout",
     "output_type": "stream",
     "text": [
      "Collecting boto3\n",
      "  Downloading boto3-1.34.144-py3-none-any.whl.metadata (6.6 kB)\n",
      "Collecting botocore<1.35.0,>=1.34.144 (from boto3)\n",
      "  Downloading botocore-1.34.144-py3-none-any.whl.metadata (5.7 kB)\n",
      "Collecting jmespath<2.0.0,>=0.7.1 (from boto3)\n",
      "  Downloading jmespath-1.0.1-py3-none-any.whl.metadata (7.6 kB)\n",
      "Collecting s3transfer<0.11.0,>=0.10.0 (from boto3)\n",
      "  Downloading s3transfer-0.10.2-py3-none-any.whl.metadata (1.7 kB)\n",
      "Requirement already satisfied: python-dateutil<3.0.0,>=2.1 in /opt/conda/lib/python3.12/site-packages (from botocore<1.35.0,>=1.34.144->boto3) (2.9.0.post0)\n",
      "Requirement already satisfied: urllib3!=2.2.0,<3,>=1.25.4 in /opt/conda/lib/python3.12/site-packages (from botocore<1.35.0,>=1.34.144->boto3) (1.26.18)\n",
      "Requirement already satisfied: six>=1.5 in /opt/conda/lib/python3.12/site-packages (from python-dateutil<3.0.0,>=2.1->botocore<1.35.0,>=1.34.144->boto3) (1.16.0)\n",
      "Downloading boto3-1.34.144-py3-none-any.whl (139 kB)\n",
      "\u001b[2K   \u001b[38;2;114;156;31m━━━━━━━━━━━━━━━━━━━━━━━━━━━━━━━━━━━━━━━━\u001b[0m \u001b[32m139.2/139.2 kB\u001b[0m \u001b[31m1.1 MB/s\u001b[0m eta \u001b[36m0:00:00\u001b[0m MB/s\u001b[0m eta \u001b[36m0:00:01\u001b[0m01\u001b[0m\n",
      "\u001b[?25hDownloading botocore-1.34.144-py3-none-any.whl (12.4 MB)\n",
      "\u001b[2K   \u001b[38;2;114;156;31m━━━━━━━━━━━━━━━━━━━━━━━━━━━━━━━━━━━━━━━━\u001b[0m \u001b[32m12.4/12.4 MB\u001b[0m \u001b[31m37.0 MB/s\u001b[0m eta \u001b[36m0:00:00\u001b[0mm eta \u001b[36m0:00:01\u001b[0m0:01\u001b[0m01\u001b[0m\n",
      "\u001b[?25hDownloading jmespath-1.0.1-py3-none-any.whl (20 kB)\n",
      "Downloading s3transfer-0.10.2-py3-none-any.whl (82 kB)\n",
      "\u001b[2K   \u001b[38;2;114;156;31m━━━━━━━━━━━━━━━━━━━━━━━━━━━━━━━━━━━━━━━━\u001b[0m \u001b[32m82.7/82.7 kB\u001b[0m \u001b[31m2.5 MB/s\u001b[0m eta \u001b[36m0:00:00\u001b[0m\n",
      "\u001b[?25hInstalling collected packages: jmespath, botocore, s3transfer, boto3\n",
      "Successfully installed boto3-1.34.144 botocore-1.34.144 jmespath-1.0.1 s3transfer-0.10.2\n",
      "Note: you may need to restart the kernel to use updated packages.\n"
     ]
    }
   ],
   "source": [
    "pip install boto3"
   ]
  },
  {
   "cell_type": "code",
   "execution_count": null,
   "id": "a4aa36b8-3713-4763-9735-2d34699d2050",
   "metadata": {},
   "outputs": [],
   "source": [
    "!mlflow ui --backend-store-uri sqlite:///mlflow.db"
   ]
  },
  {
   "cell_type": "code",
   "execution_count": 26,
   "id": "da9174f1-4cb8-4c48-aef2-48cc231d1714",
   "metadata": {},
   "outputs": [
    {
     "name": "stderr",
     "output_type": "stream",
     "text": [
      "huggingface/tokenizers: The current process just got forked, after parallelism has already been used. Disabling parallelism to avoid deadlocks...\n",
      "To disable this warning, you can either:\n",
      "\t- Avoid using `tokenizers` before the fork if possible\n",
      "\t- Explicitly set the environment variable TOKENIZERS_PARALLELISM=(true | false)\n"
     ]
    }
   ],
   "source": [
    "!export MLFLOW_TRACKING_URI=http://ec2-16-170-226-90.eu-north-1.compute.amazonaws.com:5000/"
   ]
  },
  {
   "cell_type": "code",
   "execution_count": 27,
   "id": "ce527b48-e256-486c-ac90-ddb9cd4b37bd",
   "metadata": {},
   "outputs": [
    {
     "data": {
      "text/plain": [
       "'1'"
      ]
     },
     "execution_count": 27,
     "metadata": {},
     "output_type": "execute_result"
    }
   ],
   "source": [
    "from mlflow.tracking import MlflowClient\n",
    "\n",
    "\n",
    "MLFLOW_TRACKING_URI = \"http://ec2-16-170-226-90.eu-north-1.compute.amazonaws.com:5000/\"\n",
    "MLFLOW_EXPERIMENT_NAME = \"email-spam-detection-experiment\"\n",
    "client = MlflowClient(tracking_uri=MLFLOW_TRACKING_URI)\n",
    "\n",
    "# Create a new experiment\n",
    "client.create_experiment(name=MLFLOW_EXPERIMENT_NAME)"
   ]
  },
  {
   "cell_type": "code",
   "execution_count": 28,
   "id": "5011f6fb-8424-4376-b9a7-e46840006d9a",
   "metadata": {},
   "outputs": [
    {
     "name": "stderr",
     "output_type": "stream",
     "text": [
      "huggingface/tokenizers: The current process just got forked, after parallelism has already been used. Disabling parallelism to avoid deadlocks...\n",
      "To disable this warning, you can either:\n",
      "\t- Avoid using `tokenizers` before the fork if possible\n",
      "\t- Explicitly set the environment variable TOKENIZERS_PARALLELISM=(true | false)\n"
     ]
    },
    {
     "name": "stdout",
     "output_type": "stream",
     "text": [
      "Requirement already satisfied: optuna_integration in /opt/conda/lib/python3.12/site-packages (3.6.0)\n",
      "Requirement already satisfied: optuna in /opt/conda/lib/python3.12/site-packages (from optuna_integration) (3.6.1)\n",
      "Requirement already satisfied: alembic>=1.5.0 in /opt/conda/lib/python3.12/site-packages (from optuna->optuna_integration) (1.13.2)\n",
      "Requirement already satisfied: colorlog in /opt/conda/lib/python3.12/site-packages (from optuna->optuna_integration) (6.8.2)\n",
      "Requirement already satisfied: numpy in /opt/conda/lib/python3.12/site-packages (from optuna->optuna_integration) (1.26.4)\n",
      "Requirement already satisfied: packaging>=20.0 in /opt/conda/lib/python3.12/site-packages (from optuna->optuna_integration) (23.2)\n",
      "Requirement already satisfied: sqlalchemy>=1.3.0 in /opt/conda/lib/python3.12/site-packages (from optuna->optuna_integration) (2.0.31)\n",
      "Requirement already satisfied: tqdm in /opt/conda/lib/python3.12/site-packages (from optuna->optuna_integration) (4.66.2)\n",
      "Requirement already satisfied: PyYAML in /opt/conda/lib/python3.12/site-packages (from optuna->optuna_integration) (6.0.1)\n",
      "Requirement already satisfied: Mako in /opt/conda/lib/python3.12/site-packages (from alembic>=1.5.0->optuna->optuna_integration) (1.3.5)\n",
      "Requirement already satisfied: typing-extensions>=4 in /opt/conda/lib/python3.12/site-packages (from alembic>=1.5.0->optuna->optuna_integration) (4.11.0)\n",
      "Requirement already satisfied: greenlet!=0.4.17 in /opt/conda/lib/python3.12/site-packages (from sqlalchemy>=1.3.0->optuna->optuna_integration) (3.0.3)\n",
      "Requirement already satisfied: MarkupSafe>=0.9.2 in /opt/conda/lib/python3.12/site-packages (from Mako->alembic>=1.5.0->optuna->optuna_integration) (2.1.3)\n",
      "Note: you may need to restart the kernel to use updated packages.\n"
     ]
    }
   ],
   "source": [
    "pip install optuna_integration"
   ]
  },
  {
   "cell_type": "code",
   "execution_count": 29,
   "id": "db07fa18-8f5e-4d64-816f-82925dad1cc6",
   "metadata": {},
   "outputs": [
    {
     "data": {
      "text/plain": [
       "<Experiment: artifact_location='s3://mlflow-artifacts-email/1', creation_time=1721202691321, experiment_id='1', last_update_time=1721202691321, lifecycle_stage='active', name='email-spam-detection-experiment', tags={}>"
      ]
     },
     "execution_count": 29,
     "metadata": {},
     "output_type": "execute_result"
    }
   ],
   "source": [
    "import optuna\n",
    "import mlflow\n",
    "from optuna_integration.mlflow import MLflowCallback\n",
    "\n",
    "mlflow.set_tracking_uri(MLFLOW_TRACKING_URI)\n",
    "mlflow.set_experiment(MLFLOW_EXPERIMENT_NAME)"
   ]
  },
  {
   "cell_type": "code",
   "execution_count": 30,
   "id": "a6403a78-ee98-474b-8695-08ac1dfe7246",
   "metadata": {},
   "outputs": [
    {
     "name": "stderr",
     "output_type": "stream",
     "text": [
      "/tmp/ipykernel_2448/2127476819.py:13: ExperimentalWarning: MLflowCallback is experimental (supported from v1.4.0). The interface can change in the future.\n",
      "  mlflc = MLflowCallback(\n",
      "[I 2024-07-17 07:52:08,305] A new study created in memory with name: no-name-ba3f159b-325f-43d8-9e36-3f9c51ed2689\n",
      "[I 2024-07-17 07:52:08,423] Trial 0 finished with value: 0.98 and parameters: {'rf_max_depth': 11, 'rf_n_estimators': 5}. Best is trial 0 with value: 0.98.\n",
      "[I 2024-07-17 07:52:10,445] Trial 1 finished with value: 0.974 and parameters: {'rf_max_depth': 13, 'rf_n_estimators': 10}. Best is trial 0 with value: 0.98.\n",
      "[I 2024-07-17 07:52:12,655] Trial 2 finished with value: 0.994 and parameters: {'rf_max_depth': 4, 'rf_n_estimators': 33}. Best is trial 2 with value: 0.994.\n",
      "[I 2024-07-17 07:52:14,427] Trial 3 finished with value: 0.99 and parameters: {'rf_max_depth': 3, 'rf_n_estimators': 10}. Best is trial 2 with value: 0.994.\n",
      "[I 2024-07-17 07:52:17,353] Trial 4 finished with value: 1.0 and parameters: {'rf_max_depth': 4, 'rf_n_estimators': 96}. Best is trial 4 with value: 1.0.\n",
      "[I 2024-07-17 07:52:19,668] Trial 5 finished with value: 0.99 and parameters: {'rf_max_depth': 26, 'rf_n_estimators': 30}. Best is trial 4 with value: 1.0.\n",
      "[I 2024-07-17 07:52:21,643] Trial 6 finished with value: 0.994 and parameters: {'rf_max_depth': 12, 'rf_n_estimators': 14}. Best is trial 4 with value: 1.0.\n",
      "[I 2024-07-17 07:52:23,921] Trial 7 finished with value: 0.994 and parameters: {'rf_max_depth': 12, 'rf_n_estimators': 27}. Best is trial 4 with value: 1.0.\n",
      "[I 2024-07-17 07:52:26,024] Trial 8 finished with value: 0.994 and parameters: {'rf_max_depth': 32, 'rf_n_estimators': 21}. Best is trial 4 with value: 1.0.\n",
      "[I 2024-07-17 07:52:28,293] Trial 9 finished with value: 0.994 and parameters: {'rf_max_depth': 20, 'rf_n_estimators': 27}. Best is trial 4 with value: 1.0.\n",
      "[I 2024-07-17 07:52:30,631] Trial 10 finished with value: 0.988 and parameters: {'rf_max_depth': 2, 'rf_n_estimators': 94}. Best is trial 4 with value: 1.0.\n",
      "[I 2024-07-17 07:52:33,374] Trial 11 finished with value: 1.0 and parameters: {'rf_max_depth': 4, 'rf_n_estimators': 82}. Best is trial 4 with value: 1.0.\n",
      "[I 2024-07-17 07:52:36,590] Trial 12 finished with value: 1.0 and parameters: {'rf_max_depth': 5, 'rf_n_estimators': 100}. Best is trial 4 with value: 1.0.\n",
      "[I 2024-07-17 07:52:39,287] Trial 13 finished with value: 0.998 and parameters: {'rf_max_depth': 6, 'rf_n_estimators': 58}. Best is trial 4 with value: 1.0.\n",
      "[I 2024-07-17 07:52:41,348] Trial 14 finished with value: 0.988 and parameters: {'rf_max_depth': 2, 'rf_n_estimators': 57}. Best is trial 4 with value: 1.0.\n",
      "[I 2024-07-17 07:52:43,632] Trial 15 finished with value: 0.986 and parameters: {'rf_max_depth': 3, 'rf_n_estimators': 61}. Best is trial 4 with value: 1.0.\n",
      "[I 2024-07-17 07:52:46,262] Trial 16 finished with value: 0.996 and parameters: {'rf_max_depth': 8, 'rf_n_estimators': 45}. Best is trial 4 with value: 1.0.\n",
      "[I 2024-07-17 07:52:48,686] Trial 17 finished with value: 0.986 and parameters: {'rf_max_depth': 3, 'rf_n_estimators': 76}. Best is trial 4 with value: 1.0.\n",
      "[I 2024-07-17 07:52:51,093] Trial 18 finished with value: 0.994 and parameters: {'rf_max_depth': 5, 'rf_n_estimators': 49}. Best is trial 4 with value: 1.0.\n",
      "[I 2024-07-17 07:52:54,420] Trial 19 finished with value: 1.0 and parameters: {'rf_max_depth': 8, 'rf_n_estimators': 78}. Best is trial 4 with value: 1.0.\n",
      "[I 2024-07-17 07:52:56,582] Trial 20 finished with value: 0.996 and parameters: {'rf_max_depth': 4, 'rf_n_estimators': 41}. Best is trial 4 with value: 1.0.\n",
      "[I 2024-07-17 07:52:59,716] Trial 21 finished with value: 0.994 and parameters: {'rf_max_depth': 5, 'rf_n_estimators': 95}. Best is trial 4 with value: 1.0.\n",
      "[I 2024-07-17 07:53:02,306] Trial 22 finished with value: 0.998 and parameters: {'rf_max_depth': 4, 'rf_n_estimators': 73}. Best is trial 4 with value: 1.0.\n",
      "[I 2024-07-17 07:53:05,629] Trial 23 finished with value: 0.994 and parameters: {'rf_max_depth': 6, 'rf_n_estimators': 93}. Best is trial 4 with value: 1.0.\n",
      "[I 2024-07-17 07:53:08,311] Trial 24 finished with value: 0.988 and parameters: {'rf_max_depth': 3, 'rf_n_estimators': 100}. Best is trial 4 with value: 1.0.\n",
      "[I 2024-07-17 07:53:11,487] Trial 25 finished with value: 0.996 and parameters: {'rf_max_depth': 7, 'rf_n_estimators': 68}. Best is trial 4 with value: 1.0.\n",
      "[I 2024-07-17 07:53:13,437] Trial 26 finished with value: 0.986 and parameters: {'rf_max_depth': 2, 'rf_n_estimators': 41}. Best is trial 4 with value: 1.0.\n",
      "[I 2024-07-17 07:53:15,360] Trial 27 finished with value: 0.992 and parameters: {'rf_max_depth': 5, 'rf_n_estimators': 18}. Best is trial 4 with value: 1.0.\n",
      "[I 2024-07-17 07:53:18,188] Trial 28 finished with value: 1.0 and parameters: {'rf_max_depth': 9, 'rf_n_estimators': 53}. Best is trial 4 with value: 1.0.\n",
      "[I 2024-07-17 07:53:19,925] Trial 29 finished with value: 0.988 and parameters: {'rf_max_depth': 4, 'rf_n_estimators': 7}. Best is trial 4 with value: 1.0.\n",
      "[I 2024-07-17 07:53:21,679] Trial 30 finished with value: 0.98 and parameters: {'rf_max_depth': 10, 'rf_n_estimators': 5}. Best is trial 4 with value: 1.0.\n",
      "[I 2024-07-17 07:53:25,081] Trial 31 finished with value: 1.0 and parameters: {'rf_max_depth': 16, 'rf_n_estimators': 75}. Best is trial 4 with value: 1.0.\n",
      "[I 2024-07-17 07:53:28,172] Trial 32 finished with value: 0.998 and parameters: {'rf_max_depth': 6, 'rf_n_estimators': 78}. Best is trial 4 with value: 1.0.\n",
      "[I 2024-07-17 07:53:31,576] Trial 33 finished with value: 0.998 and parameters: {'rf_max_depth': 8, 'rf_n_estimators': 82}. Best is trial 4 with value: 1.0.\n",
      "[I 2024-07-17 07:53:34,167] Trial 34 finished with value: 0.998 and parameters: {'rf_max_depth': 4, 'rf_n_estimators': 70}. Best is trial 4 with value: 1.0.\n",
      "[I 2024-07-17 07:53:37,575] Trial 35 finished with value: 0.998 and parameters: {'rf_max_depth': 7, 'rf_n_estimators': 87}. Best is trial 4 with value: 1.0.\n",
      "[I 2024-07-17 07:53:39,816] Trial 36 finished with value: 0.996 and parameters: {'rf_max_depth': 5, 'rf_n_estimators': 38}. Best is trial 4 with value: 1.0.\n",
      "[I 2024-07-17 07:53:42,852] Trial 37 finished with value: 0.996 and parameters: {'rf_max_depth': 15, 'rf_n_estimators': 61}. Best is trial 4 with value: 1.0.\n",
      "[I 2024-07-17 07:53:44,840] Trial 38 finished with value: 0.99 and parameters: {'rf_max_depth': 3, 'rf_n_estimators': 34}. Best is trial 4 with value: 1.0.\n",
      "[I 2024-07-17 07:53:46,840] Trial 39 finished with value: 1.0 and parameters: {'rf_max_depth': 9, 'rf_n_estimators': 16}. Best is trial 4 with value: 1.0.\n",
      "[I 2024-07-17 07:53:50,761] Trial 40 finished with value: 0.998 and parameters: {'rf_max_depth': 11, 'rf_n_estimators': 100}. Best is trial 4 with value: 1.0.\n",
      "[I 2024-07-17 07:53:53,410] Trial 41 finished with value: 0.994 and parameters: {'rf_max_depth': 8, 'rf_n_estimators': 47}. Best is trial 4 with value: 1.0.\n",
      "[I 2024-07-17 07:53:56,227] Trial 42 finished with value: 0.998 and parameters: {'rf_max_depth': 10, 'rf_n_estimators': 53}. Best is trial 4 with value: 1.0.\n",
      "[I 2024-07-17 07:53:59,063] Trial 43 finished with value: 0.998 and parameters: {'rf_max_depth': 6, 'rf_n_estimators': 65}. Best is trial 4 with value: 1.0.\n",
      "[I 2024-07-17 07:54:02,625] Trial 44 finished with value: 0.998 and parameters: {'rf_max_depth': 14, 'rf_n_estimators': 83}. Best is trial 4 with value: 1.0.\n",
      "[I 2024-07-17 07:54:06,233] Trial 45 finished with value: 0.998 and parameters: {'rf_max_depth': 17, 'rf_n_estimators': 85}. Best is trial 4 with value: 1.0.\n",
      "[I 2024-07-17 07:54:09,094] Trial 46 finished with value: 0.998 and parameters: {'rf_max_depth': 20, 'rf_n_estimators': 53}. Best is trial 4 with value: 1.0.\n",
      "[I 2024-07-17 07:54:12,210] Trial 47 finished with value: 0.998 and parameters: {'rf_max_depth': 12, 'rf_n_estimators': 64}. Best is trial 4 with value: 1.0.\n",
      "[I 2024-07-17 07:54:14,372] Trial 48 finished with value: 1.0 and parameters: {'rf_max_depth': 9, 'rf_n_estimators': 23}. Best is trial 4 with value: 1.0.\n",
      "[I 2024-07-17 07:54:17,702] Trial 49 finished with value: 0.996 and parameters: {'rf_max_depth': 7, 'rf_n_estimators': 84}. Best is trial 4 with value: 1.0.\n",
      "[I 2024-07-17 07:54:19,505] Trial 50 finished with value: 0.986 and parameters: {'rf_max_depth': 4, 'rf_n_estimators': 12}. Best is trial 4 with value: 1.0.\n",
      "[I 2024-07-17 07:54:22,857] Trial 51 finished with value: 0.996 and parameters: {'rf_max_depth': 29, 'rf_n_estimators': 73}. Best is trial 4 with value: 1.0.\n",
      "[I 2024-07-17 07:54:25,830] Trial 52 finished with value: 0.996 and parameters: {'rf_max_depth': 21, 'rf_n_estimators': 57}. Best is trial 4 with value: 1.0.\n",
      "[I 2024-07-17 07:54:29,177] Trial 53 finished with value: 0.994 and parameters: {'rf_max_depth': 17, 'rf_n_estimators': 74}. Best is trial 4 with value: 1.0.\n",
      "[I 2024-07-17 07:54:32,258] Trial 54 finished with value: 0.996 and parameters: {'rf_max_depth': 5, 'rf_n_estimators': 91}. Best is trial 4 with value: 1.0.\n",
      "[I 2024-07-17 07:54:35,693] Trial 55 finished with value: 0.998 and parameters: {'rf_max_depth': 6, 'rf_n_estimators': 99}. Best is trial 4 with value: 1.0.\n",
      "[I 2024-07-17 07:54:39,059] Trial 56 finished with value: 0.998 and parameters: {'rf_max_depth': 25, 'rf_n_estimators': 68}. Best is trial 4 with value: 1.0.\n",
      "[I 2024-07-17 07:54:41,865] Trial 57 finished with value: 0.994 and parameters: {'rf_max_depth': 9, 'rf_n_estimators': 51}. Best is trial 4 with value: 1.0.\n",
      "[I 2024-07-17 07:54:45,353] Trial 58 finished with value: 0.994 and parameters: {'rf_max_depth': 14, 'rf_n_estimators': 76}. Best is trial 4 with value: 1.0.\n",
      "[I 2024-07-17 07:54:48,203] Trial 59 finished with value: 0.996 and parameters: {'rf_max_depth': 8, 'rf_n_estimators': 56}. Best is trial 4 with value: 1.0.\n",
      "[I 2024-07-17 07:54:50,542] Trial 60 finished with value: 0.998 and parameters: {'rf_max_depth': 5, 'rf_n_estimators': 44}. Best is trial 4 with value: 1.0.\n",
      "[I 2024-07-17 07:54:52,557] Trial 61 finished with value: 0.996 and parameters: {'rf_max_depth': 9, 'rf_n_estimators': 17}. Best is trial 4 with value: 1.0.\n",
      "[I 2024-07-17 07:54:54,512] Trial 62 finished with value: 0.99 and parameters: {'rf_max_depth': 7, 'rf_n_estimators': 15}. Best is trial 4 with value: 1.0.\n",
      "[I 2024-07-17 07:54:56,391] Trial 63 finished with value: 0.99 and parameters: {'rf_max_depth': 11, 'rf_n_estimators': 9}. Best is trial 4 with value: 1.0.\n",
      "[I 2024-07-17 07:54:58,328] Trial 64 finished with value: 0.99 and parameters: {'rf_max_depth': 10, 'rf_n_estimators': 12}. Best is trial 4 with value: 1.0.\n",
      "[I 2024-07-17 07:55:00,275] Trial 65 finished with value: 0.984 and parameters: {'rf_max_depth': 4, 'rf_n_estimators': 22}. Best is trial 4 with value: 1.0.\n",
      "[I 2024-07-17 07:55:02,622] Trial 66 finished with value: 0.994 and parameters: {'rf_max_depth': 12, 'rf_n_estimators': 29}. Best is trial 4 with value: 1.0.\n",
      "[I 2024-07-17 07:55:06,165] Trial 67 finished with value: 0.994 and parameters: {'rf_max_depth': 8, 'rf_n_estimators': 90}. Best is trial 4 with value: 1.0.\n",
      "[I 2024-07-17 07:55:08,242] Trial 68 finished with value: 0.99 and parameters: {'rf_max_depth': 18, 'rf_n_estimators': 19}. Best is trial 4 with value: 1.0.\n",
      "[I 2024-07-17 07:55:10,129] Trial 69 finished with value: 0.998 and parameters: {'rf_max_depth': 3, 'rf_n_estimators': 25}. Best is trial 4 with value: 1.0.\n",
      "[I 2024-07-17 07:55:13,286] Trial 70 finished with value: 0.998 and parameters: {'rf_max_depth': 6, 'rf_n_estimators': 81}. Best is trial 4 with value: 1.0.\n",
      "[I 2024-07-17 07:55:15,234] Trial 71 finished with value: 0.996 and parameters: {'rf_max_depth': 9, 'rf_n_estimators': 14}. Best is trial 4 with value: 1.0.\n",
      "[I 2024-07-17 07:55:18,290] Trial 72 finished with value: 0.996 and parameters: {'rf_max_depth': 11, 'rf_n_estimators': 63}. Best is trial 4 with value: 1.0.\n",
      "[I 2024-07-17 07:55:21,958] Trial 73 finished with value: 0.996 and parameters: {'rf_max_depth': 9, 'rf_n_estimators': 91}. Best is trial 4 with value: 1.0.\n",
      "[I 2024-07-17 07:55:24,415] Trial 74 finished with value: 0.992 and parameters: {'rf_max_depth': 13, 'rf_n_estimators': 37}. Best is trial 4 with value: 1.0.\n",
      "[I 2024-07-17 07:55:27,651] Trial 75 finished with value: 0.998 and parameters: {'rf_max_depth': 10, 'rf_n_estimators': 70}. Best is trial 4 with value: 1.0.\n",
      "[I 2024-07-17 07:55:30,983] Trial 76 finished with value: 1.0 and parameters: {'rf_max_depth': 8, 'rf_n_estimators': 78}. Best is trial 4 with value: 1.0.\n",
      "[I 2024-07-17 07:55:33,174] Trial 77 finished with value: 0.998 and parameters: {'rf_max_depth': 15, 'rf_n_estimators': 23}. Best is trial 4 with value: 1.0.\n",
      "[I 2024-07-17 07:55:35,265] Trial 78 finished with value: 0.99 and parameters: {'rf_max_depth': 7, 'rf_n_estimators': 20}. Best is trial 4 with value: 1.0.\n",
      "[I 2024-07-17 07:55:38,896] Trial 79 finished with value: 1.0 and parameters: {'rf_max_depth': 13, 'rf_n_estimators': 88}. Best is trial 4 with value: 1.0.\n",
      "[I 2024-07-17 07:55:40,924] Trial 80 finished with value: 0.992 and parameters: {'rf_max_depth': 11, 'rf_n_estimators': 17}. Best is trial 4 with value: 1.0.\n",
      "[I 2024-07-17 07:55:44,218] Trial 81 finished with value: 0.998 and parameters: {'rf_max_depth': 8, 'rf_n_estimators': 77}. Best is trial 4 with value: 1.0.\n",
      "[I 2024-07-17 07:55:48,095] Trial 82 finished with value: 0.996 and parameters: {'rf_max_depth': 10, 'rf_n_estimators': 98}. Best is trial 4 with value: 1.0.\n",
      "[I 2024-07-17 07:55:51,078] Trial 83 finished with value: 0.998 and parameters: {'rf_max_depth': 9, 'rf_n_estimators': 60}. Best is trial 4 with value: 1.0.\n",
      "[I 2024-07-17 07:55:54,548] Trial 84 finished with value: 0.998 and parameters: {'rf_max_depth': 23, 'rf_n_estimators': 80}. Best is trial 4 with value: 1.0.\n",
      "[I 2024-07-17 07:55:57,227] Trial 85 finished with value: 1.0 and parameters: {'rf_max_depth': 5, 'rf_n_estimators': 66}. Best is trial 4 with value: 1.0.\n",
      "[I 2024-07-17 07:56:00,396] Trial 86 finished with value: 0.998 and parameters: {'rf_max_depth': 6, 'rf_n_estimators': 85}. Best is trial 4 with value: 1.0.\n",
      "[I 2024-07-17 07:56:02,275] Trial 87 finished with value: 0.99 and parameters: {'rf_max_depth': 8, 'rf_n_estimators': 11}. Best is trial 4 with value: 1.0.\n",
      "[I 2024-07-17 07:56:04,134] Trial 88 finished with value: 0.984 and parameters: {'rf_max_depth': 12, 'rf_n_estimators': 8}. Best is trial 4 with value: 1.0.\n",
      "[I 2024-07-17 07:56:06,765] Trial 89 finished with value: 0.996 and parameters: {'rf_max_depth': 4, 'rf_n_estimators': 73}. Best is trial 4 with value: 1.0.\n",
      "[I 2024-07-17 07:56:09,819] Trial 90 finished with value: 0.996 and parameters: {'rf_max_depth': 7, 'rf_n_estimators': 69}. Best is trial 4 with value: 1.0.\n",
      "[I 2024-07-17 07:56:13,603] Trial 91 finished with value: 0.998 and parameters: {'rf_max_depth': 15, 'rf_n_estimators': 92}. Best is trial 4 with value: 1.0.\n",
      "[I 2024-07-17 07:56:17,274] Trial 92 finished with value: 0.998 and parameters: {'rf_max_depth': 18, 'rf_n_estimators': 87}. Best is trial 4 with value: 1.0.\n",
      "[I 2024-07-17 07:56:21,187] Trial 93 finished with value: 0.998 and parameters: {'rf_max_depth': 13, 'rf_n_estimators': 99}. Best is trial 4 with value: 1.0.\n",
      "[I 2024-07-17 07:56:24,691] Trial 94 finished with value: 0.996 and parameters: {'rf_max_depth': 14, 'rf_n_estimators': 79}. Best is trial 4 with value: 1.0.\n",
      "[I 2024-07-17 07:56:26,470] Trial 95 finished with value: 0.988 and parameters: {'rf_max_depth': 10, 'rf_n_estimators': 6}. Best is trial 4 with value: 1.0.\n",
      "[I 2024-07-17 07:56:28,849] Trial 96 finished with value: 0.998 and parameters: {'rf_max_depth': 13, 'rf_n_estimators': 32}. Best is trial 4 with value: 1.0.\n",
      "[I 2024-07-17 07:56:32,598] Trial 97 finished with value: 0.994 and parameters: {'rf_max_depth': 9, 'rf_n_estimators': 94}. Best is trial 4 with value: 1.0.\n",
      "[I 2024-07-17 07:56:36,276] Trial 98 finished with value: 1.0 and parameters: {'rf_max_depth': 16, 'rf_n_estimators': 88}. Best is trial 4 with value: 1.0.\n",
      "[I 2024-07-17 07:56:39,585] Trial 99 finished with value: 0.996 and parameters: {'rf_max_depth': 19, 'rf_n_estimators': 73}. Best is trial 4 with value: 1.0.\n"
     ]
    }
   ],
   "source": [
    "from sklearn.metrics import accuracy_score\n",
    "\n",
    "def objective(trial):\n",
    "    rf_max_depth = trial.suggest_int(\"rf_max_depth\", 2, 32, log=True)\n",
    "    rf_n_estimators = trial.suggest_int(\"rf_n_estimators\", 5, 100, log=True)\n",
    "    clf = RandomForestClassifier(max_depth=rf_max_depth, n_estimators=rf_n_estimators)\n",
    "    clf.fit(train_embeddings, train_df['label'])\n",
    "\n",
    "    predictions = clf.predict(test_embeddings)\n",
    "    accuracy = accuracy_score(test_df['label'], predictions)\n",
    "    return accuracy\n",
    "\n",
    "mlflc = MLflowCallback(\n",
    "    tracking_uri=MLFLOW_TRACKING_URI,\n",
    "    metric_name='accuracy',\n",
    "    create_experiment=False,\n",
    ")\n",
    "\n",
    "study = optuna.create_study(direction=\"maximize\")\n",
    "study.optimize(objective, n_trials=100, callbacks=[mlflc])"
   ]
  },
  {
   "cell_type": "code",
   "execution_count": 31,
   "id": "55298094-8454-4dba-b6a5-5401dc69f0e1",
   "metadata": {},
   "outputs": [
    {
     "data": {
      "text/plain": [
       "1.0"
      ]
     },
     "execution_count": 31,
     "metadata": {},
     "output_type": "execute_result"
    }
   ],
   "source": [
    "study.best_value"
   ]
  },
  {
   "cell_type": "code",
   "execution_count": 32,
   "id": "c3d1c35b-bb91-48df-929b-331d6c96837b",
   "metadata": {},
   "outputs": [],
   "source": [
    "# Search for runs in the experiment\n",
    "# Get based on the best trial value with the lowest n_estimators\n",
    "from mlflow.entities import ViewType\n",
    "\n",
    "spam_detection_experiment=dict(mlflow.get_experiment_by_name(MLFLOW_EXPERIMENT_NAME))\n",
    "experiment_id=spam_detection_experiment['experiment_id']\n",
    "\n",
    "best_run = client.search_runs( \n",
    "    experiment_ids=experiment_id,\n",
    "    filter_string=f'metrics.accuracy = {study.best_value}',\n",
    "    run_view_type= ViewType.ACTIVE_ONLY,\n",
    "    max_results=1,\n",
    "    order_by=['parameters.rf_n_estimators ASC']\n",
    ")[0]"
   ]
  },
  {
   "cell_type": "code",
   "execution_count": 33,
   "id": "29377208-5fdb-40b6-b978-e41bbba6a116",
   "metadata": {},
   "outputs": [
    {
     "ename": "S3UploadFailedError",
     "evalue": "Failed to upload /tmp/tmpgehs967l/model/conda.yaml to mlflow-artifacts-email/1/fed8ba904e2b41e4877a2355afaf931c/artifacts/models/conda.yaml: An error occurred (InvalidAccessKeyId) when calling the PutObject operation: The AWS Access Key Id you provided does not exist in our records.",
     "output_type": "error",
     "traceback": [
      "\u001b[0;31m---------------------------------------------------------------------------\u001b[0m",
      "\u001b[0;31mClientError\u001b[0m                               Traceback (most recent call last)",
      "File \u001b[0;32m/opt/conda/lib/python3.12/site-packages/boto3/s3/transfer.py:372\u001b[0m, in \u001b[0;36mS3Transfer.upload_file\u001b[0;34m(self, filename, bucket, key, callback, extra_args)\u001b[0m\n\u001b[1;32m    371\u001b[0m \u001b[38;5;28;01mtry\u001b[39;00m:\n\u001b[0;32m--> 372\u001b[0m     future\u001b[38;5;241m.\u001b[39mresult()\n\u001b[1;32m    373\u001b[0m \u001b[38;5;66;03m# If a client error was raised, add the backwards compatibility layer\u001b[39;00m\n\u001b[1;32m    374\u001b[0m \u001b[38;5;66;03m# that raises a S3UploadFailedError. These specific errors were only\u001b[39;00m\n\u001b[1;32m    375\u001b[0m \u001b[38;5;66;03m# ever thrown for upload_parts but now can be thrown for any related\u001b[39;00m\n\u001b[1;32m    376\u001b[0m \u001b[38;5;66;03m# client error.\u001b[39;00m\n",
      "File \u001b[0;32m/opt/conda/lib/python3.12/site-packages/s3transfer/futures.py:103\u001b[0m, in \u001b[0;36mTransferFuture.result\u001b[0;34m(self)\u001b[0m\n\u001b[1;32m     99\u001b[0m \u001b[38;5;28;01mtry\u001b[39;00m:\n\u001b[1;32m    100\u001b[0m     \u001b[38;5;66;03m# Usually the result() method blocks until the transfer is done,\u001b[39;00m\n\u001b[1;32m    101\u001b[0m     \u001b[38;5;66;03m# however if a KeyboardInterrupt is raised we want want to exit\u001b[39;00m\n\u001b[1;32m    102\u001b[0m     \u001b[38;5;66;03m# out of this and propagate the exception.\u001b[39;00m\n\u001b[0;32m--> 103\u001b[0m     \u001b[38;5;28;01mreturn\u001b[39;00m \u001b[38;5;28mself\u001b[39m\u001b[38;5;241m.\u001b[39m_coordinator\u001b[38;5;241m.\u001b[39mresult()\n\u001b[1;32m    104\u001b[0m \u001b[38;5;28;01mexcept\u001b[39;00m \u001b[38;5;167;01mKeyboardInterrupt\u001b[39;00m \u001b[38;5;28;01mas\u001b[39;00m e:\n",
      "File \u001b[0;32m/opt/conda/lib/python3.12/site-packages/s3transfer/futures.py:266\u001b[0m, in \u001b[0;36mTransferCoordinator.result\u001b[0;34m(self)\u001b[0m\n\u001b[1;32m    265\u001b[0m \u001b[38;5;28;01mif\u001b[39;00m \u001b[38;5;28mself\u001b[39m\u001b[38;5;241m.\u001b[39m_exception:\n\u001b[0;32m--> 266\u001b[0m     \u001b[38;5;28;01mraise\u001b[39;00m \u001b[38;5;28mself\u001b[39m\u001b[38;5;241m.\u001b[39m_exception\n\u001b[1;32m    267\u001b[0m \u001b[38;5;28;01mreturn\u001b[39;00m \u001b[38;5;28mself\u001b[39m\u001b[38;5;241m.\u001b[39m_result\n",
      "File \u001b[0;32m/opt/conda/lib/python3.12/site-packages/s3transfer/tasks.py:139\u001b[0m, in \u001b[0;36mTask.__call__\u001b[0;34m(self)\u001b[0m\n\u001b[1;32m    138\u001b[0m     \u001b[38;5;28;01mif\u001b[39;00m \u001b[38;5;129;01mnot\u001b[39;00m \u001b[38;5;28mself\u001b[39m\u001b[38;5;241m.\u001b[39m_transfer_coordinator\u001b[38;5;241m.\u001b[39mdone():\n\u001b[0;32m--> 139\u001b[0m         \u001b[38;5;28;01mreturn\u001b[39;00m \u001b[38;5;28mself\u001b[39m\u001b[38;5;241m.\u001b[39m_execute_main(kwargs)\n\u001b[1;32m    140\u001b[0m \u001b[38;5;28;01mexcept\u001b[39;00m \u001b[38;5;167;01mException\u001b[39;00m \u001b[38;5;28;01mas\u001b[39;00m e:\n",
      "File \u001b[0;32m/opt/conda/lib/python3.12/site-packages/s3transfer/tasks.py:162\u001b[0m, in \u001b[0;36mTask._execute_main\u001b[0;34m(self, kwargs)\u001b[0m\n\u001b[1;32m    160\u001b[0m logger\u001b[38;5;241m.\u001b[39mdebug(\u001b[38;5;124mf\u001b[39m\u001b[38;5;124m\"\u001b[39m\u001b[38;5;124mExecuting task \u001b[39m\u001b[38;5;132;01m{\u001b[39;00m\u001b[38;5;28mself\u001b[39m\u001b[38;5;132;01m}\u001b[39;00m\u001b[38;5;124m with kwargs \u001b[39m\u001b[38;5;132;01m{\u001b[39;00mkwargs_to_display\u001b[38;5;132;01m}\u001b[39;00m\u001b[38;5;124m\"\u001b[39m)\n\u001b[0;32m--> 162\u001b[0m return_value \u001b[38;5;241m=\u001b[39m \u001b[38;5;28mself\u001b[39m\u001b[38;5;241m.\u001b[39m_main(\u001b[38;5;241m*\u001b[39m\u001b[38;5;241m*\u001b[39mkwargs)\n\u001b[1;32m    163\u001b[0m \u001b[38;5;66;03m# If the task is the final task, then set the TransferFuture's\u001b[39;00m\n\u001b[1;32m    164\u001b[0m \u001b[38;5;66;03m# value to the return value from main().\u001b[39;00m\n",
      "File \u001b[0;32m/opt/conda/lib/python3.12/site-packages/s3transfer/upload.py:764\u001b[0m, in \u001b[0;36mPutObjectTask._main\u001b[0;34m(self, client, fileobj, bucket, key, extra_args)\u001b[0m\n\u001b[1;32m    763\u001b[0m \u001b[38;5;28;01mwith\u001b[39;00m fileobj \u001b[38;5;28;01mas\u001b[39;00m body:\n\u001b[0;32m--> 764\u001b[0m     client\u001b[38;5;241m.\u001b[39mput_object(Bucket\u001b[38;5;241m=\u001b[39mbucket, Key\u001b[38;5;241m=\u001b[39mkey, Body\u001b[38;5;241m=\u001b[39mbody, \u001b[38;5;241m*\u001b[39m\u001b[38;5;241m*\u001b[39mextra_args)\n",
      "File \u001b[0;32m/opt/conda/lib/python3.12/site-packages/botocore/client.py:565\u001b[0m, in \u001b[0;36mClientCreator._create_api_method.<locals>._api_call\u001b[0;34m(self, *args, **kwargs)\u001b[0m\n\u001b[1;32m    564\u001b[0m \u001b[38;5;66;03m# The \"self\" in this scope is referring to the BaseClient.\u001b[39;00m\n\u001b[0;32m--> 565\u001b[0m \u001b[38;5;28;01mreturn\u001b[39;00m \u001b[38;5;28mself\u001b[39m\u001b[38;5;241m.\u001b[39m_make_api_call(operation_name, kwargs)\n",
      "File \u001b[0;32m/opt/conda/lib/python3.12/site-packages/botocore/client.py:1021\u001b[0m, in \u001b[0;36mBaseClient._make_api_call\u001b[0;34m(self, operation_name, api_params)\u001b[0m\n\u001b[1;32m   1020\u001b[0m     error_class \u001b[38;5;241m=\u001b[39m \u001b[38;5;28mself\u001b[39m\u001b[38;5;241m.\u001b[39mexceptions\u001b[38;5;241m.\u001b[39mfrom_code(error_code)\n\u001b[0;32m-> 1021\u001b[0m     \u001b[38;5;28;01mraise\u001b[39;00m error_class(parsed_response, operation_name)\n\u001b[1;32m   1022\u001b[0m \u001b[38;5;28;01melse\u001b[39;00m:\n",
      "\u001b[0;31mClientError\u001b[0m: An error occurred (InvalidAccessKeyId) when calling the PutObject operation: The AWS Access Key Id you provided does not exist in our records.",
      "\nDuring handling of the above exception, another exception occurred:\n",
      "\u001b[0;31mS3UploadFailedError\u001b[0m                       Traceback (most recent call last)",
      "Cell \u001b[0;32mIn[33], line 14\u001b[0m\n\u001b[1;32m     11\u001b[0m mlflow\u001b[38;5;241m.\u001b[39mlog_metric(\u001b[38;5;124m\"\u001b[39m\u001b[38;5;124maccuracy\u001b[39m\u001b[38;5;124m\"\u001b[39m, accuracy)\n\u001b[1;32m     13\u001b[0m dump(best_clf, \u001b[38;5;124m'\u001b[39m\u001b[38;5;124mmodels/best_clf.joblib\u001b[39m\u001b[38;5;124m'\u001b[39m)\n\u001b[0;32m---> 14\u001b[0m mlflow\u001b[38;5;241m.\u001b[39msklearn\u001b[38;5;241m.\u001b[39mlog_model(best_clf, artifact_path\u001b[38;5;241m=\u001b[39m\u001b[38;5;124m\"\u001b[39m\u001b[38;5;124mmodels\u001b[39m\u001b[38;5;124m\"\u001b[39m, registered_model_name\u001b[38;5;241m=\u001b[39m\u001b[38;5;124m'\u001b[39m\u001b[38;5;124mspam-detector\u001b[39m\u001b[38;5;124m'\u001b[39m)\n",
      "File \u001b[0;32m/opt/conda/lib/python3.12/site-packages/mlflow/sklearn/__init__.py:412\u001b[0m, in \u001b[0;36mlog_model\u001b[0;34m(sk_model, artifact_path, conda_env, code_paths, serialization_format, registered_model_name, signature, input_example, await_registration_for, pip_requirements, extra_pip_requirements, pyfunc_predict_fn, metadata)\u001b[0m\n\u001b[1;32m    333\u001b[0m \u001b[38;5;129m@format_docstring\u001b[39m(LOG_MODEL_PARAM_DOCS\u001b[38;5;241m.\u001b[39mformat(package_name\u001b[38;5;241m=\u001b[39m\u001b[38;5;124m\"\u001b[39m\u001b[38;5;124mscikit-learn\u001b[39m\u001b[38;5;124m\"\u001b[39m))\n\u001b[1;32m    334\u001b[0m \u001b[38;5;28;01mdef\u001b[39;00m \u001b[38;5;21mlog_model\u001b[39m(\n\u001b[1;32m    335\u001b[0m     sk_model,\n\u001b[0;32m   (...)\u001b[0m\n\u001b[1;32m    347\u001b[0m     metadata\u001b[38;5;241m=\u001b[39m\u001b[38;5;28;01mNone\u001b[39;00m,\n\u001b[1;32m    348\u001b[0m ):\n\u001b[1;32m    349\u001b[0m \u001b[38;5;250m    \u001b[39m\u001b[38;5;124;03m\"\"\"\u001b[39;00m\n\u001b[1;32m    350\u001b[0m \u001b[38;5;124;03m    Log a scikit-learn model as an MLflow artifact for the current run. Produces an MLflow Model\u001b[39;00m\n\u001b[1;32m    351\u001b[0m \u001b[38;5;124;03m    containing the following flavors:\u001b[39;00m\n\u001b[0;32m   (...)\u001b[0m\n\u001b[1;32m    410\u001b[0m \n\u001b[1;32m    411\u001b[0m \u001b[38;5;124;03m    \"\"\"\u001b[39;00m\n\u001b[0;32m--> 412\u001b[0m     \u001b[38;5;28;01mreturn\u001b[39;00m Model\u001b[38;5;241m.\u001b[39mlog(\n\u001b[1;32m    413\u001b[0m         artifact_path\u001b[38;5;241m=\u001b[39martifact_path,\n\u001b[1;32m    414\u001b[0m         flavor\u001b[38;5;241m=\u001b[39mmlflow\u001b[38;5;241m.\u001b[39msklearn,\n\u001b[1;32m    415\u001b[0m         sk_model\u001b[38;5;241m=\u001b[39msk_model,\n\u001b[1;32m    416\u001b[0m         conda_env\u001b[38;5;241m=\u001b[39mconda_env,\n\u001b[1;32m    417\u001b[0m         code_paths\u001b[38;5;241m=\u001b[39mcode_paths,\n\u001b[1;32m    418\u001b[0m         serialization_format\u001b[38;5;241m=\u001b[39mserialization_format,\n\u001b[1;32m    419\u001b[0m         registered_model_name\u001b[38;5;241m=\u001b[39mregistered_model_name,\n\u001b[1;32m    420\u001b[0m         signature\u001b[38;5;241m=\u001b[39msignature,\n\u001b[1;32m    421\u001b[0m         input_example\u001b[38;5;241m=\u001b[39minput_example,\n\u001b[1;32m    422\u001b[0m         await_registration_for\u001b[38;5;241m=\u001b[39mawait_registration_for,\n\u001b[1;32m    423\u001b[0m         pip_requirements\u001b[38;5;241m=\u001b[39mpip_requirements,\n\u001b[1;32m    424\u001b[0m         extra_pip_requirements\u001b[38;5;241m=\u001b[39mextra_pip_requirements,\n\u001b[1;32m    425\u001b[0m         pyfunc_predict_fn\u001b[38;5;241m=\u001b[39mpyfunc_predict_fn,\n\u001b[1;32m    426\u001b[0m         metadata\u001b[38;5;241m=\u001b[39mmetadata,\n\u001b[1;32m    427\u001b[0m     )\n",
      "File \u001b[0;32m/opt/conda/lib/python3.12/site-packages/mlflow/models/model.py:699\u001b[0m, in \u001b[0;36mModel.log\u001b[0;34m(cls, artifact_path, flavor, registered_model_name, await_registration_for, metadata, run_id, resources, **kwargs)\u001b[0m\n\u001b[1;32m    695\u001b[0m \u001b[38;5;28;01mif\u001b[39;00m mlflow_model\u001b[38;5;241m.\u001b[39msignature \u001b[38;5;129;01mis\u001b[39;00m \u001b[38;5;28;01mNone\u001b[39;00m \u001b[38;5;129;01mand\u001b[39;00m (\n\u001b[1;32m    696\u001b[0m     tracking_uri \u001b[38;5;241m==\u001b[39m \u001b[38;5;124m\"\u001b[39m\u001b[38;5;124mdatabricks\u001b[39m\u001b[38;5;124m\"\u001b[39m \u001b[38;5;129;01mor\u001b[39;00m get_uri_scheme(tracking_uri) \u001b[38;5;241m==\u001b[39m \u001b[38;5;124m\"\u001b[39m\u001b[38;5;124mdatabricks\u001b[39m\u001b[38;5;124m\"\u001b[39m\n\u001b[1;32m    697\u001b[0m ):\n\u001b[1;32m    698\u001b[0m     _logger\u001b[38;5;241m.\u001b[39mwarning(_LOG_MODEL_MISSING_SIGNATURE_WARNING)\n\u001b[0;32m--> 699\u001b[0m mlflow\u001b[38;5;241m.\u001b[39mtracking\u001b[38;5;241m.\u001b[39mfluent\u001b[38;5;241m.\u001b[39mlog_artifacts(local_path, mlflow_model\u001b[38;5;241m.\u001b[39martifact_path, run_id)\n\u001b[1;32m    701\u001b[0m \u001b[38;5;66;03m# if the model_config kwarg is passed in, then log the model config as an params\u001b[39;00m\n\u001b[1;32m    702\u001b[0m \u001b[38;5;28;01mif\u001b[39;00m model_config \u001b[38;5;241m:=\u001b[39m kwargs\u001b[38;5;241m.\u001b[39mget(\u001b[38;5;124m\"\u001b[39m\u001b[38;5;124mmodel_config\u001b[39m\u001b[38;5;124m\"\u001b[39m):\n",
      "File \u001b[0;32m/opt/conda/lib/python3.12/site-packages/mlflow/tracking/fluent.py:1106\u001b[0m, in \u001b[0;36mlog_artifacts\u001b[0;34m(local_dir, artifact_path, run_id)\u001b[0m\n\u001b[1;32m   1074\u001b[0m \u001b[38;5;250m\u001b[39m\u001b[38;5;124;03m\"\"\"\u001b[39;00m\n\u001b[1;32m   1075\u001b[0m \u001b[38;5;124;03mLog all the contents of a local directory as artifacts of the run. If no run is active,\u001b[39;00m\n\u001b[1;32m   1076\u001b[0m \u001b[38;5;124;03mthis method will create a new active run.\u001b[39;00m\n\u001b[0;32m   (...)\u001b[0m\n\u001b[1;32m   1103\u001b[0m \u001b[38;5;124;03m            mlflow.log_artifacts(tmp_dir, artifact_path=\"states\")\u001b[39;00m\n\u001b[1;32m   1104\u001b[0m \u001b[38;5;124;03m\"\"\"\u001b[39;00m\n\u001b[1;32m   1105\u001b[0m run_id \u001b[38;5;241m=\u001b[39m run_id \u001b[38;5;129;01mor\u001b[39;00m _get_or_start_run()\u001b[38;5;241m.\u001b[39minfo\u001b[38;5;241m.\u001b[39mrun_id\n\u001b[0;32m-> 1106\u001b[0m MlflowClient()\u001b[38;5;241m.\u001b[39mlog_artifacts(run_id, local_dir, artifact_path)\n",
      "File \u001b[0;32m/opt/conda/lib/python3.12/site-packages/mlflow/tracking/client.py:1962\u001b[0m, in \u001b[0;36mMlflowClient.log_artifacts\u001b[0;34m(self, run_id, local_dir, artifact_path)\u001b[0m\n\u001b[1;32m   1916\u001b[0m \u001b[38;5;28;01mdef\u001b[39;00m \u001b[38;5;21mlog_artifacts\u001b[39m(\n\u001b[1;32m   1917\u001b[0m     \u001b[38;5;28mself\u001b[39m, run_id: \u001b[38;5;28mstr\u001b[39m, local_dir: \u001b[38;5;28mstr\u001b[39m, artifact_path: Optional[\u001b[38;5;28mstr\u001b[39m] \u001b[38;5;241m=\u001b[39m \u001b[38;5;28;01mNone\u001b[39;00m\n\u001b[1;32m   1918\u001b[0m ) \u001b[38;5;241m-\u001b[39m\u001b[38;5;241m>\u001b[39m \u001b[38;5;28;01mNone\u001b[39;00m:\n\u001b[1;32m   1919\u001b[0m \u001b[38;5;250m    \u001b[39m\u001b[38;5;124;03m\"\"\"Write a directory of files to the remote ``artifact_uri``.\u001b[39;00m\n\u001b[1;32m   1920\u001b[0m \n\u001b[1;32m   1921\u001b[0m \u001b[38;5;124;03m    Args:\u001b[39;00m\n\u001b[0;32m   (...)\u001b[0m\n\u001b[1;32m   1960\u001b[0m \n\u001b[1;32m   1961\u001b[0m \u001b[38;5;124;03m    \"\"\"\u001b[39;00m\n\u001b[0;32m-> 1962\u001b[0m     \u001b[38;5;28mself\u001b[39m\u001b[38;5;241m.\u001b[39m_tracking_client\u001b[38;5;241m.\u001b[39mlog_artifacts(run_id, local_dir, artifact_path)\n",
      "File \u001b[0;32m/opt/conda/lib/python3.12/site-packages/mlflow/tracking/_tracking_service/client.py:841\u001b[0m, in \u001b[0;36mTrackingServiceClient.log_artifacts\u001b[0;34m(self, run_id, local_dir, artifact_path)\u001b[0m\n\u001b[1;32m    833\u001b[0m \u001b[38;5;28;01mdef\u001b[39;00m \u001b[38;5;21mlog_artifacts\u001b[39m(\u001b[38;5;28mself\u001b[39m, run_id, local_dir, artifact_path\u001b[38;5;241m=\u001b[39m\u001b[38;5;28;01mNone\u001b[39;00m):\n\u001b[1;32m    834\u001b[0m \u001b[38;5;250m    \u001b[39m\u001b[38;5;124;03m\"\"\"Write a directory of files to the remote ``artifact_uri``.\u001b[39;00m\n\u001b[1;32m    835\u001b[0m \n\u001b[1;32m    836\u001b[0m \u001b[38;5;124;03m    Args:\u001b[39;00m\n\u001b[0;32m   (...)\u001b[0m\n\u001b[1;32m    839\u001b[0m \n\u001b[1;32m    840\u001b[0m \u001b[38;5;124;03m    \"\"\"\u001b[39;00m\n\u001b[0;32m--> 841\u001b[0m     \u001b[38;5;28mself\u001b[39m\u001b[38;5;241m.\u001b[39m_get_artifact_repo(run_id)\u001b[38;5;241m.\u001b[39mlog_artifacts(local_dir, artifact_path)\n",
      "File \u001b[0;32m/opt/conda/lib/python3.12/site-packages/mlflow/store/artifact/s3_artifact_repo.py:194\u001b[0m, in \u001b[0;36mS3ArtifactRepository.log_artifacts\u001b[0;34m(self, local_dir, artifact_path)\u001b[0m\n\u001b[1;32m    191\u001b[0m     upload_path \u001b[38;5;241m=\u001b[39m posixpath\u001b[38;5;241m.\u001b[39mjoin(dest_path, rel_path)\n\u001b[1;32m    193\u001b[0m \u001b[38;5;28;01mfor\u001b[39;00m f \u001b[38;5;129;01min\u001b[39;00m filenames:\n\u001b[0;32m--> 194\u001b[0m     \u001b[38;5;28mself\u001b[39m\u001b[38;5;241m.\u001b[39m_upload_file(\n\u001b[1;32m    195\u001b[0m         s3_client\u001b[38;5;241m=\u001b[39ms3_client,\n\u001b[1;32m    196\u001b[0m         local_file\u001b[38;5;241m=\u001b[39mos\u001b[38;5;241m.\u001b[39mpath\u001b[38;5;241m.\u001b[39mjoin(root, f),\n\u001b[1;32m    197\u001b[0m         bucket\u001b[38;5;241m=\u001b[39mbucket,\n\u001b[1;32m    198\u001b[0m         key\u001b[38;5;241m=\u001b[39mposixpath\u001b[38;5;241m.\u001b[39mjoin(upload_path, f),\n\u001b[1;32m    199\u001b[0m     )\n",
      "File \u001b[0;32m/opt/conda/lib/python3.12/site-packages/mlflow/store/artifact/s3_artifact_repo.py:169\u001b[0m, in \u001b[0;36mS3ArtifactRepository._upload_file\u001b[0;34m(self, s3_client, local_file, bucket, key)\u001b[0m\n\u001b[1;32m    167\u001b[0m \u001b[38;5;28;01mif\u001b[39;00m environ_extra_args \u001b[38;5;129;01mis\u001b[39;00m \u001b[38;5;129;01mnot\u001b[39;00m \u001b[38;5;28;01mNone\u001b[39;00m:\n\u001b[1;32m    168\u001b[0m     extra_args\u001b[38;5;241m.\u001b[39mupdate(environ_extra_args)\n\u001b[0;32m--> 169\u001b[0m s3_client\u001b[38;5;241m.\u001b[39mupload_file(Filename\u001b[38;5;241m=\u001b[39mlocal_file, Bucket\u001b[38;5;241m=\u001b[39mbucket, Key\u001b[38;5;241m=\u001b[39mkey, ExtraArgs\u001b[38;5;241m=\u001b[39mextra_args)\n",
      "File \u001b[0;32m/opt/conda/lib/python3.12/site-packages/boto3/s3/inject.py:145\u001b[0m, in \u001b[0;36mupload_file\u001b[0;34m(self, Filename, Bucket, Key, ExtraArgs, Callback, Config)\u001b[0m\n\u001b[1;32m    110\u001b[0m \u001b[38;5;250m\u001b[39m\u001b[38;5;124;03m\"\"\"Upload a file to an S3 object.\u001b[39;00m\n\u001b[1;32m    111\u001b[0m \n\u001b[1;32m    112\u001b[0m \u001b[38;5;124;03mUsage::\u001b[39;00m\n\u001b[0;32m   (...)\u001b[0m\n\u001b[1;32m    142\u001b[0m \u001b[38;5;124;03m    transfer.\u001b[39;00m\n\u001b[1;32m    143\u001b[0m \u001b[38;5;124;03m\"\"\"\u001b[39;00m\n\u001b[1;32m    144\u001b[0m \u001b[38;5;28;01mwith\u001b[39;00m S3Transfer(\u001b[38;5;28mself\u001b[39m, Config) \u001b[38;5;28;01mas\u001b[39;00m transfer:\n\u001b[0;32m--> 145\u001b[0m     \u001b[38;5;28;01mreturn\u001b[39;00m transfer\u001b[38;5;241m.\u001b[39mupload_file(\n\u001b[1;32m    146\u001b[0m         filename\u001b[38;5;241m=\u001b[39mFilename,\n\u001b[1;32m    147\u001b[0m         bucket\u001b[38;5;241m=\u001b[39mBucket,\n\u001b[1;32m    148\u001b[0m         key\u001b[38;5;241m=\u001b[39mKey,\n\u001b[1;32m    149\u001b[0m         extra_args\u001b[38;5;241m=\u001b[39mExtraArgs,\n\u001b[1;32m    150\u001b[0m         callback\u001b[38;5;241m=\u001b[39mCallback,\n\u001b[1;32m    151\u001b[0m     )\n",
      "File \u001b[0;32m/opt/conda/lib/python3.12/site-packages/boto3/s3/transfer.py:378\u001b[0m, in \u001b[0;36mS3Transfer.upload_file\u001b[0;34m(self, filename, bucket, key, callback, extra_args)\u001b[0m\n\u001b[1;32m    373\u001b[0m \u001b[38;5;66;03m# If a client error was raised, add the backwards compatibility layer\u001b[39;00m\n\u001b[1;32m    374\u001b[0m \u001b[38;5;66;03m# that raises a S3UploadFailedError. These specific errors were only\u001b[39;00m\n\u001b[1;32m    375\u001b[0m \u001b[38;5;66;03m# ever thrown for upload_parts but now can be thrown for any related\u001b[39;00m\n\u001b[1;32m    376\u001b[0m \u001b[38;5;66;03m# client error.\u001b[39;00m\n\u001b[1;32m    377\u001b[0m \u001b[38;5;28;01mexcept\u001b[39;00m ClientError \u001b[38;5;28;01mas\u001b[39;00m e:\n\u001b[0;32m--> 378\u001b[0m     \u001b[38;5;28;01mraise\u001b[39;00m S3UploadFailedError(\n\u001b[1;32m    379\u001b[0m         \u001b[38;5;124m\"\u001b[39m\u001b[38;5;124mFailed to upload \u001b[39m\u001b[38;5;132;01m{}\u001b[39;00m\u001b[38;5;124m to \u001b[39m\u001b[38;5;132;01m{}\u001b[39;00m\u001b[38;5;124m: \u001b[39m\u001b[38;5;132;01m{}\u001b[39;00m\u001b[38;5;124m\"\u001b[39m\u001b[38;5;241m.\u001b[39mformat(\n\u001b[1;32m    380\u001b[0m             filename, \u001b[38;5;124m'\u001b[39m\u001b[38;5;124m/\u001b[39m\u001b[38;5;124m'\u001b[39m\u001b[38;5;241m.\u001b[39mjoin([bucket, key]), e\n\u001b[1;32m    381\u001b[0m         )\n\u001b[1;32m    382\u001b[0m     )\n",
      "\u001b[0;31mS3UploadFailedError\u001b[0m: Failed to upload /tmp/tmpgehs967l/model/conda.yaml to mlflow-artifacts-email/1/fed8ba904e2b41e4877a2355afaf931c/artifacts/models/conda.yaml: An error occurred (InvalidAccessKeyId) when calling the PutObject operation: The AWS Access Key Id you provided does not exist in our records."
     ]
    }
   ],
   "source": [
    "best_max_depth = int(best_run.data.params['rf_max_depth'])\n",
    "best_n_estimators = int(best_run.data.params['rf_n_estimators'])\n",
    "\n",
    "mlflow.log_params({'rf_max_depth': best_max_depth, 'rf_n_estimators': best_n_estimators})\n",
    "\n",
    "best_clf = RandomForestClassifier(n_estimators=best_n_estimators, max_depth=best_max_depth)\n",
    "best_clf.fit(train_embeddings, train_df['label'])\n",
    "\n",
    "best_predictions = best_clf.predict(test_embeddings)\n",
    "accuracy = accuracy_score(test_df['label'], best_predictions)\n",
    "mlflow.log_metric(\"accuracy\", accuracy)\n",
    "\n",
    "dump(best_clf, 'models/best_clf.joblib')\n",
    "mlflow.sklearn.log_model(best_clf, artifact_path=\"models\", registered_model_name='spam-detector')"
   ]
  },
  {
   "cell_type": "code",
   "execution_count": 1,
   "id": "7fba2c5f-5309-45ab-8425-2877cd63b976",
   "metadata": {},
   "outputs": [],
   "source": [
    "import mlflow\n",
    "from mlflow import MlflowClient"
   ]
  },
  {
   "cell_type": "code",
   "execution_count": 2,
   "id": "8784f349-045f-4d2f-8ab9-13f0d53154ad",
   "metadata": {},
   "outputs": [],
   "source": [
    "mlflow_tracking_uri=\"http://127.0.0.1:5000\"\n",
    "mlflow_client = MlflowClient(mlflow_tracking_uri)"
   ]
  },
  {
   "cell_type": "code",
   "execution_count": 5,
   "id": "b48b5d5f-0bda-49f0-99b5-e42ceb5df7ef",
   "metadata": {},
   "outputs": [
    {
     "data": {
      "text/plain": [
       "768"
      ]
     },
     "execution_count": 5,
     "metadata": {},
     "output_type": "execute_result"
    }
   ],
   "source": [
    "from sentence_transformers import SentenceTransformer\n",
    "sentences = \"Lorem ipsum dolor sit amet, consectetur adipiscing elit, sed do eiusmod tempor incididunt ut labore et dolore magna aliqua.\"\n",
    "\n",
    "model = SentenceTransformer('sentence-transformers/all-mpnet-base-v2')\n",
    "embeddings = model.encode(sentences, show_progress_bar=False, batch_size=32)\n",
    "len(embeddings)\n"
   ]
  },
  {
   "cell_type": "code",
   "execution_count": null,
   "id": "384dc2a7-2821-4f84-82bf-cdc217b83cd4",
   "metadata": {},
   "outputs": [],
   "source": []
  }
 ],
 "metadata": {
  "kernelspec": {
   "display_name": "Python 3 (ipykernel)",
   "language": "python",
   "name": "python3"
  },
  "language_info": {
   "codemirror_mode": {
    "name": "ipython",
    "version": 3
   },
   "file_extension": ".py",
   "mimetype": "text/x-python",
   "name": "python",
   "nbconvert_exporter": "python",
   "pygments_lexer": "ipython3",
   "version": "3.10.13"
  }
 },
 "nbformat": 4,
 "nbformat_minor": 5
}
